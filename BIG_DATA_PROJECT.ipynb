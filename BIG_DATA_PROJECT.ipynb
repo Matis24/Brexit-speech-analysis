{
  "nbformat": 4,
  "nbformat_minor": 0,
  "metadata": {
    "colab": {
      "provenance": [],
      "include_colab_link": true
    },
    "kernelspec": {
      "name": "python3",
      "display_name": "Python 3"
    },
    "language_info": {
      "name": "python"
    }
  },
  "cells": [
    {
      "cell_type": "markdown",
      "metadata": {
        "id": "view-in-github",
        "colab_type": "text"
      },
      "source": [
        "<a href=\"https://colab.research.google.com/github/Matis24/Brexit-speech-analysis/blob/main/BIG_DATA_PROJECT.ipynb\" target=\"_parent\"><img src=\"https://colab.research.google.com/assets/colab-badge.svg\" alt=\"Open In Colab\"/></a>"
      ]
    },
    {
      "cell_type": "markdown",
      "source": [
        "#**PROJET DONNEES MASSIVES**"
      ],
      "metadata": {
        "id": "IFVe5Jp5jkWn"
      }
    },
    {
      "cell_type": "code",
      "execution_count": 1,
      "metadata": {
        "colab": {
          "base_uri": "https://localhost:8080/"
        },
        "id": "C9Dn241cjjbC",
        "outputId": "3e09daf8-c2fe-4fb2-8cf5-2dd9a0164ae7"
      },
      "outputs": [
        {
          "output_type": "stream",
          "name": "stdout",
          "text": [
            "Requirement already satisfied: pyspark in /usr/local/lib/python3.10/dist-packages (3.5.3)\n",
            "Requirement already satisfied: py4j==0.10.9.7 in /usr/local/lib/python3.10/dist-packages (from pyspark) (0.10.9.7)\n"
          ]
        }
      ],
      "source": [
        "!pip install pyspark"
      ]
    },
    {
      "cell_type": "code",
      "source": [
        "# Importer les bibliothèques nécessaires\n",
        "from pyspark.sql import SparkSession\n",
        "from pyspark.sql import functions as F\n",
        "from pyspark.sql.types import StructType, StructField, StringType, DateType\n",
        "from pyspark.ml.feature import RegexTokenizer, StopWordsRemover, CountVectorizer\n",
        "from pyspark.ml.clustering import LDA\n",
        "from pyspark.ml import Pipeline"
      ],
      "metadata": {
        "id": "6FrDzkdmj_3v"
      },
      "execution_count": 2,
      "outputs": []
    },
    {
      "cell_type": "code",
      "source": [
        "# Créer une session Spark\n",
        "spark = SparkSession.builder \\\n",
        "    .appName(\"LDA Topic Modeling on Title and Description\") \\\n",
        "    .getOrCreate()\n",
        "\n",
        "# Définition du schéma des données\n",
        "schema = StructType([\n",
        "    StructField(\"Title\", StringType(), True),\n",
        "    StructField(\"Author\", StringType(), True),\n",
        "    StructField(\"Source\", StringType(), True),\n",
        "    StructField(\"Date\", DateType(), True),\n",
        "    StructField(\"URL\", StringType(), True),\n",
        "    StructField(\"Description\", StringType(), True),\n",
        "    StructField(\"Content\", StringType(), True)\n",
        "])\n",
        "\n",
        "# Charger le fichier CSV avec le schéma défini\n",
        "df = spark.read.csv(\"/content/articles_proche_orient.csv\", header=True, schema=schema)\n",
        "\n",
        "# fichier contenant la catégory de l'article (1 : l'article traite des conflits au moyen orient, 0 : sinon)\n",
        "df_article_category = spark.read.csv(\"/content/article_category.csv\", sep = \";\", header=True, inferSchema=True)"
      ],
      "metadata": {
        "id": "2pxQzlrWjuR5"
      },
      "execution_count": 3,
      "outputs": []
    },
    {
      "cell_type": "markdown",
      "source": [
        "Nous disposons ici de deux DataFrames : `df`, qui contient les articles, et `df_article_category`,\n",
        "qui renferme la catégorie de chaque article (indiquant si l'article traite du conflit au Moyen-Orient ou non).\n",
        "Pour obtenir un seul DataFrame, nous pouvons exploiter le concept de **broadcast** en Spark.\n",
        "Le broadcast permet d'optimiser les jointures entre une grande table (ici les articles) et une petite table\n",
        "(ici les catégories). Plutôt que de déplacer de grandes quantités de données à travers le cluster, Spark diffuse\n",
        "la petite table à chaque nœud. Ainsi, chaque nœud reçoit une copie complète de `df_article_category` et peut\n",
        "effectuer la jointure localement avec sa partition de `df`.\n",
        "Cela réduit les échanges de données entre nœuds et améliore significativement les performances,\n",
        "en particulier lorsque la petite table peut être conservée en mémoire sur chaque nœud.\n"
      ],
      "metadata": {
        "id": "peFYLqv9sSw2"
      }
    },
    {
      "cell_type": "code",
      "source": [
        "# Noeud 1 (Partition 1 du DataFrame d'articles)  <--- Reçoit df_article_category complet\n",
        "# Noeud 2 (Partition 2 du DataFrame d'articles)  <--- Reçoit df_article_category complet\n",
        "# Noeud 3 (Partition 3 du DataFrame d'articles)  <--- Reçoit df_article_category complet\n",
        "# ...\n",
        "\n",
        "from pyspark.sql.functions import broadcast\n",
        "\n",
        "# Appliquer une jointure avec broadcast\n",
        "df = df.join(broadcast(df_article_category), df['URL'] == df_article_category['URL'], how='left')"
      ],
      "metadata": {
        "id": "RKmunb-rwoQJ"
      },
      "execution_count": 4,
      "outputs": []
    },
    {
      "cell_type": "markdown",
      "source": [
        "\n",
        "Le DataFrame résultant de la jointure sera utilisé dans la suite du projet. Pour éviter de recalculer cette étape coûteuse, notamment la jointure, à chaque utilisation, nous le mettons en cache."
      ],
      "metadata": {
        "id": "zVm8Cw61_t_v"
      }
    },
    {
      "cell_type": "code",
      "source": [
        "# Mettre en cache le DataFrame après la jointure\n",
        "df.cache()"
      ],
      "metadata": {
        "colab": {
          "base_uri": "https://localhost:8080/"
        },
        "id": "IaPbmFTEBFxi",
        "outputId": "c1d45177-f5ca-4d15-ef7e-be77adc930e6"
      },
      "execution_count": 5,
      "outputs": [
        {
          "output_type": "execute_result",
          "data": {
            "text/plain": [
              "DataFrame[Title: string, Author: string, Source: string, Date: date, URL: string, Description: string, Content: string, URL: string, Category: int]"
            ]
          },
          "metadata": {},
          "execution_count": 5
        }
      ]
    },
    {
      "cell_type": "markdown",
      "source": [
        "Avant d'aller plus loin, vérifions combien de noeuds nous disposons."
      ],
      "metadata": {
        "id": "0V-BBQ97pJOJ"
      }
    },
    {
      "cell_type": "code",
      "source": [
        "# Récupérer le nombre de cœurs disponibles dans Spark\n",
        "num_cores = spark.sparkContext.defaultParallelism\n",
        "print(f\"Nombre de cœurs disponibles : {num_cores}\")"
      ],
      "metadata": {
        "colab": {
          "base_uri": "https://localhost:8080/"
        },
        "id": "bamiWVjcpQM-",
        "outputId": "d231f3fb-1cfc-4c93-c283-c10027f51814"
      },
      "execution_count": 6,
      "outputs": [
        {
          "output_type": "stream",
          "name": "stdout",
          "text": [
            "Nombre de cœurs disponibles : 2\n"
          ]
        }
      ]
    },
    {
      "cell_type": "markdown",
      "source": [
        "Il y'a 2 cœurs, ce qui permet d'exécuter des tâches en parallèle et d'améliorer les performances en répartissant le travail sur ces deux cœurs. Vérifions maintenant le nombre de partitions du jeu de données."
      ],
      "metadata": {
        "id": "AX216hrdqYz1"
      }
    },
    {
      "cell_type": "code",
      "source": [
        "# Vérifier le nombre de partitions\n",
        "num_partitions = df.rdd.getNumPartitions()\n",
        "print(f\"Nombre de partitions après la jointure et le cache : {num_partitions}\")"
      ],
      "metadata": {
        "colab": {
          "base_uri": "https://localhost:8080/"
        },
        "id": "g41svt2CD0AQ",
        "outputId": "812563e8-ba75-4457-d101-0467c774bb19"
      },
      "execution_count": 7,
      "outputs": [
        {
          "output_type": "stream",
          "name": "stdout",
          "text": [
            "Nombre de partitions après la jointure et le cache : 1\n"
          ]
        }
      ]
    },
    {
      "cell_type": "markdown",
      "source": [
        "Il n'y a actuellement qu'une seule partition, ce qui signifie que toutes les données seront traitées sur un seul nœud de manière séquentielle. Cela peut potentiellement surcharger le nœud et ralentir le traitement global. Pour exploiter pleinement le parallélisme de Spark, nous pourrions ajuster manuellement le nombre de partitions. Mais pourquoi Spark a-t-il décidé de garder une seule partition ?"
      ],
      "metadata": {
        "id": "NqjhHzdYEORy"
      }
    },
    {
      "cell_type": "code",
      "source": [
        "# Taille idéale d'une partition en bytes (128 Mo)\n",
        "partition_size = 128 * 1024 * 1024  # 128 Mo\n",
        "\n",
        "# Estimation de la taille des données en bytes\n",
        "data_size = df.rdd.map(lambda row: len(str(row))).sum()\n",
        "\n",
        "# Calcul du nombre optimal de partitions\n",
        "num_partitions_optimal = max(1, int(data_size / partition_size))\n",
        "\n",
        "print(f\"Taille estimée des données : {data_size} bytes\")\n",
        "print(f\"Nombre de partitions optimal basé sur la taille des données : {num_partitions_optimal}\")\n"
      ],
      "metadata": {
        "colab": {
          "base_uri": "https://localhost:8080/"
        },
        "id": "fDaADaq8tYWk",
        "outputId": "02a25812-5461-48db-8b92-c3ac48aaf258"
      },
      "execution_count": 8,
      "outputs": [
        {
          "output_type": "stream",
          "name": "stdout",
          "text": [
            "Taille estimée des données : 81789 bytes\n",
            "Nombre de partitions optimal basé sur la taille des données : 1\n"
          ]
        }
      ]
    },
    {
      "cell_type": "markdown",
      "source": [
        "Spark a gardé le nombre de partitions à 1 car la taille des données est jugée trop faible pour justifier une division en plusieurs partitions. Dans ces cas-là, Spark adopte une approche intelligente : au lieu de créer des partitions supplémentaires qui engendreraient un surcoût inutile de gestion et d'échanges de données entre les partitions, il préfère optimiser le traitement en regroupant tout dans une seule partition. Cela permet d'éviter les ralentissements liés aux shuffles et d'améliorer l'efficacité sur de petits volumes de données."
      ],
      "metadata": {
        "id": "gMIcn3cJtcfC"
      }
    },
    {
      "cell_type": "markdown",
      "source": [
        "Qui dit Spark et données massives, dit traitement distribué. Pour la suite du projet, nous allons donc fixer le nombre de partitions à 2 pour avoir un semblant de parallélisme, même si dans ce cas précis, ce n'est pas strictement nécessaire en raison de la petite taille des données. (mais supposons que nous avons une grande quantité de données)..."
      ],
      "metadata": {
        "id": "gD76sVB0t7CC"
      }
    },
    {
      "cell_type": "code",
      "source": [
        "# Ajuster manuellement le nombre de partitions à 3 pour profiter du parallélisme\n",
        "df = df.repartition(2)\n",
        "\n",
        "# Vérifier le nombre de partitions après répartition\n",
        "num_partitions_after = df.rdd.getNumPartitions()\n",
        "print(f\"Nombre de partitions après répartition : {num_partitions_after}\")"
      ],
      "metadata": {
        "colab": {
          "base_uri": "https://localhost:8080/"
        },
        "id": "MKqyrzkcIkBr",
        "outputId": "33d958cf-f136-4795-ff76-2ca459439790"
      },
      "execution_count": 9,
      "outputs": [
        {
          "output_type": "stream",
          "name": "stdout",
          "text": [
            "Nombre de partitions après répartition : 2\n"
          ]
        }
      ]
    },
    {
      "cell_type": "markdown",
      "source": [
        "# **Exploration du DataFrame**"
      ],
      "metadata": {
        "id": "Sf_7WyNSxFpQ"
      }
    },
    {
      "cell_type": "code",
      "source": [
        "df.printSchema()"
      ],
      "metadata": {
        "colab": {
          "base_uri": "https://localhost:8080/"
        },
        "id": "2V2-Xcw1kYrO",
        "outputId": "049d15b8-cf61-443a-8511-2b8a68398b19"
      },
      "execution_count": 10,
      "outputs": [
        {
          "output_type": "stream",
          "name": "stdout",
          "text": [
            "root\n",
            " |-- Title: string (nullable = true)\n",
            " |-- Author: string (nullable = true)\n",
            " |-- Source: string (nullable = true)\n",
            " |-- Date: date (nullable = true)\n",
            " |-- URL: string (nullable = true)\n",
            " |-- Description: string (nullable = true)\n",
            " |-- Content: string (nullable = true)\n",
            " |-- URL: string (nullable = true)\n",
            " |-- Category: integer (nullable = true)\n",
            "\n"
          ]
        }
      ]
    },
    {
      "cell_type": "code",
      "source": [
        "df.show()"
      ],
      "metadata": {
        "colab": {
          "base_uri": "https://localhost:8080/"
        },
        "id": "3u7BtLqokckH",
        "outputId": "68947a80-9f9e-4553-f7c8-ae7d0f6c8fd5"
      },
      "execution_count": 11,
      "outputs": [
        {
          "output_type": "stream",
          "name": "stdout",
          "text": [
            "+--------------------+--------------------+-------------------+----------+--------------------+--------------------+--------------------+--------------------+--------+\n",
            "|               Title|              Author|             Source|      Date|                 URL|         Description|             Content|                 URL|Category|\n",
            "+--------------------+--------------------+-------------------+----------+--------------------+--------------------+--------------------+--------------------+--------+\n",
            "|Middle East tensi...|                NULL| Al Jazeera English|2024-10-09|https://www.aljaz...|Fears of a wideni...|Fears of a wideni...|https://www.aljaz...|       1|\n",
            "|<ul><li>A Hezboll...|                NULL|               NULL|      NULL|                NULL|                NULL|                NULL|                NULL|    NULL|\n",
            "|Could the Middle ...|                NULL| Al Jazeera English|2024-10-09|https://www.aljaz...|More than one yea...|More than one yea...|https://www.aljaz...|       1|\n",
            "|The situation in ...|                NULL|               NULL|      NULL|                NULL|                NULL|                NULL|                NULL|    NULL|\n",
            "|Kirby says U.S. d...|            ABC News|           ABC News|2024-09-22|https://abcnews.g...|\"White House Nati...|With fighting bet...|https://abcnews.g...|       1|\n",
            "|Is Biden administ...|            Ali Harb| Al Jazeera English|2024-10-09|https://www.aljaz...|As Washington cal...|Washington, DC Ho...|https://www.aljaz...|       1|\n",
            "|Israel's air war ...|          Paul Iddon|   Business Insider|2024-09-26|https://www.busin...|The Israeli Air F...|Waves of Israeli ...|https://www.busin...|       1|\n",
            "|UK charters fligh...|                NULL|           BBC News|2024-09-30|https://www.bbc.c...|British nationals...|The UK government...|https://www.bbc.c...|       1|\n",
            "|\"\"I'm still in de...|\"\" Alla Ghalayini...|               NULL|      NULL|                NULL|                NULL|                NULL|                NULL|    NULL|\n",
            "|and headlights th...|                NULL|               NULL|      NULL|                NULL|                NULL|                NULL|                NULL|    NULL|\n",
            "|Hezbollah may cop...|        Insider Inc.|   Business Insider|2024-09-24|https://www.busin...|Hezbollah has rep...|Hezbollah militan...|https://www.busin...|       1|\n",
            "|Russia calls on I...|             Reuters|Yahoo Entertainment|2024-10-01|https://uk.news.y...|Russia on Tuesday...|MOSCOW (Reuters) ...|https://uk.news.y...|       1|\n",
            "|Can a war in the ...|                NULL| Al Jazeera English|2024-09-30|https://www.aljaz...|The region braces...|The region braces...|https://www.aljaz...|       1|\n",
            "|One boy's story s...|       Ayman Oghanna|                NPR|2024-10-08|https://www.npr.o...|\"After his father...|In a carpentry sh...|https://www.npr.o...|       1|\n",
            "|Iran launched lon...| just hours after...|               NULL|      NULL|                NULL|                NULL|                NULL|                NULL|    NULL|\n",
            "|On a late ni… [+6...|                NULL|               NULL|      NULL|                NULL|                NULL|                NULL|                NULL|    NULL|\n",
            "|Middle East lates...|The Associated Press|Yahoo Entertainment|2024-10-08|https://www.yahoo...|The Israeli milit...|The Israeli milit...|https://www.yahoo...|       1|\n",
            "|MUMBAI (Reuters) ...| as equity outflo...|               NULL|      NULL|                NULL|                NULL|                NULL|                NULL|    NULL|\n",
            "|Why war in Middle...|                NULL|           BBC News|2024-10-05|https://www.bbc.c...|Burning conflict ...|     \"\"\"Lets be real|https://www.bbc.c...|       1|\n",
            "|Dan Harper and… [...|                NULL|               NULL|      NULL|                NULL|                NULL|                NULL|                NULL|    NULL|\n",
            "+--------------------+--------------------+-------------------+----------+--------------------+--------------------+--------------------+--------------------+--------+\n",
            "only showing top 20 rows\n",
            "\n"
          ]
        }
      ]
    },
    {
      "cell_type": "code",
      "source": [
        "# Supprimer la colonne 'URL' en double après la jointure\n",
        "df = df.drop(df_article_category['URL'])\n",
        "\n",
        "# Supprimer les lignes contenant des valeurs NULL\n",
        "df = df.na.drop()"
      ],
      "metadata": {
        "id": "Bdf8nojO2WwR"
      },
      "execution_count": 12,
      "outputs": []
    },
    {
      "cell_type": "code",
      "source": [
        "# Compter le nombre d'articles par source et par autheur\n",
        "df.groupBy('Source', 'Author')\\\n",
        "    .count()\\\n",
        "    .orderBy('count', ascending = False)\\\n",
        "    .show()"
      ],
      "metadata": {
        "colab": {
          "base_uri": "https://localhost:8080/"
        },
        "id": "as-Y8JIRnYgy",
        "outputId": "1b242047-ef0a-4b43-e6e1-038fd4395988"
      },
      "execution_count": 13,
      "outputs": [
        {
          "output_type": "stream",
          "name": "stdout",
          "text": [
            "+-------------------+--------------------+-----+\n",
            "|             Source|              Author|count|\n",
            "+-------------------+--------------------+-----+\n",
            "|   Business Insider|        Jake Epstein|    4|\n",
            "|Yahoo Entertainment|             Reuters|    3|\n",
            "|   Business Insider|    Thibault Spirlet|    2|\n",
            "|Yahoo Entertainment|editorial-team@si...|    2|\n",
            "|           ABC News| Shannon K. Kingston|    2|\n",
            "|   Business Insider|      Hannah Abraham|    2|\n",
            "|Yahoo Entertainment|The Associated Press|    2|\n",
            "|   Business Insider|        Taylor Rains|    1|\n",
            "|Yahoo Entertainment|Samia Nakhoul, Ah...|    1|\n",
            "|           ABC News|         Jon Haworth|    1|\n",
            "| Al Jazeera English|Erin Hale, Alasta...|    1|\n",
            "|                NPR|       Gus Contreras|    1|\n",
            "|Yahoo Entertainment|       Matthew Petti|    1|\n",
            "|                NPR|         Emma Bowman|    1|\n",
            "|           ABC News|            ABC News|    1|\n",
            "|           The Hill|Assaf Zoran, opin...|    1|\n",
            "|                NPR|        Luke Garrett|    1|\n",
            "|                NPR|       Daniel Estrin|    1|\n",
            "|   Business Insider|Alice Tecotzky,Er...|    1|\n",
            "|   Business Insider|          Paul Iddon|    1|\n",
            "+-------------------+--------------------+-----+\n",
            "only showing top 20 rows\n",
            "\n"
          ]
        }
      ]
    },
    {
      "cell_type": "markdown",
      "source": [
        "Bien que nous ayons réparti les données en 2 partitions pour tirer parti du parallélisme, des opérations comme `groupBy` nécessitent souvent une réorganisation des données entre les partitions, provoquant un shuffle qui peut ralentir le traitement.\n",
        "\n",
        "Pour éviter ces shuffles et optimiser les performances, nous pourrons réorganisé les données par `Source` et `Author` avant l'agrégation. Cela permet de regrouper efficacement les données et de minimiser les échanges entre les partitions, améliorant ainsi l'efficacité du `groupBy`. Comparons ces deux approches pour voir l'impact sur les performances.\n"
      ],
      "metadata": {
        "id": "lxBeJbstiO4J"
      }
    },
    {
      "cell_type": "code",
      "source": [
        "import time\n",
        "\n",
        "# Mesurer le temps d'exécution du groupBy avec la répartition générale\n",
        "start_time_global = time.time()\n",
        "\n",
        "df.groupBy('Source', 'Author')\\\n",
        "    .count()\\\n",
        "    .orderBy('count', ascending=False)\\\n",
        "    .show()\n",
        "\n",
        "end_time_global = time.time()\n",
        "execution_time_global = end_time_global - start_time_global\n",
        "\n",
        "\n",
        "# Deuxième approche : créer un nouveau DataFrame avec répartition par 'Source' et 'Author'\n",
        "df_specific = df.repartition(2, 'Source', 'Author')\n",
        "\n",
        "# Mesurer le temps d'exécution du groupBy avec la répartition spécifique\n",
        "start_time_specific = time.time()\n",
        "\n",
        "df_specific.groupBy('Source', 'Author')\\\n",
        "    .count()\\\n",
        "    .orderBy('count', ascending=False)\\\n",
        "    .show()\n",
        "\n",
        "end_time_specific = time.time()\n",
        "execution_time_specific = end_time_specific - start_time_specific\n",
        "\n",
        "\n",
        "# Comparaison des deux approches\n",
        "print(\"\\nComparaison des temps d'exécution :\")\n",
        "print(f\"Répartition générale : {execution_time_global:.4f} secondes\")\n",
        "print(f\"Répartition par 'Source' et 'Author' : {execution_time_specific:.4f} secondes\")\n"
      ],
      "metadata": {
        "colab": {
          "base_uri": "https://localhost:8080/"
        },
        "id": "9ObnzaDmjVDS",
        "outputId": "68b44e9b-7593-473a-ab5e-dbf5d182c414"
      },
      "execution_count": 14,
      "outputs": [
        {
          "output_type": "stream",
          "name": "stdout",
          "text": [
            "+-------------------+--------------------+-----+\n",
            "|             Source|              Author|count|\n",
            "+-------------------+--------------------+-----+\n",
            "|   Business Insider|        Jake Epstein|    4|\n",
            "|Yahoo Entertainment|             Reuters|    3|\n",
            "|   Business Insider|    Thibault Spirlet|    2|\n",
            "|Yahoo Entertainment|editorial-team@si...|    2|\n",
            "|           ABC News| Shannon K. Kingston|    2|\n",
            "|   Business Insider|      Hannah Abraham|    2|\n",
            "|Yahoo Entertainment|The Associated Press|    2|\n",
            "|   Business Insider|        Taylor Rains|    1|\n",
            "|Yahoo Entertainment|Samia Nakhoul, Ah...|    1|\n",
            "|           ABC News|         Jon Haworth|    1|\n",
            "| Al Jazeera English|Erin Hale, Alasta...|    1|\n",
            "|                NPR|       Gus Contreras|    1|\n",
            "|Yahoo Entertainment|       Matthew Petti|    1|\n",
            "|                NPR|         Emma Bowman|    1|\n",
            "|           ABC News|            ABC News|    1|\n",
            "|           The Hill|Assaf Zoran, opin...|    1|\n",
            "|                NPR|        Luke Garrett|    1|\n",
            "|                NPR|       Daniel Estrin|    1|\n",
            "|   Business Insider|Alice Tecotzky,Er...|    1|\n",
            "|   Business Insider|          Paul Iddon|    1|\n",
            "+-------------------+--------------------+-----+\n",
            "only showing top 20 rows\n",
            "\n",
            "+-------------------+--------------------+-----+\n",
            "|             Source|              Author|count|\n",
            "+-------------------+--------------------+-----+\n",
            "|   Business Insider|        Jake Epstein|    4|\n",
            "|Yahoo Entertainment|             Reuters|    3|\n",
            "|   Business Insider|    Thibault Spirlet|    2|\n",
            "|   Business Insider|      Hannah Abraham|    2|\n",
            "|Yahoo Entertainment|editorial-team@si...|    2|\n",
            "|           ABC News| Shannon K. Kingston|    2|\n",
            "|Yahoo Entertainment|The Associated Press|    2|\n",
            "|                NPR|       Gus Contreras|    1|\n",
            "|                NPR|      Rebecca Rosman|    1|\n",
            "|                NPR|   Hadeel Al-Shalchi|    1|\n",
            "|   Business Insider|Jake Epstein,Chri...|    1|\n",
            "|   Business Insider|Erica Star Domena...|    1|\n",
            "|               Time|Allen Fromherz / ...|    1|\n",
            "|   Business Insider|Alice Tecotzky,Er...|    1|\n",
            "|   Business Insider|         Huileng Tan|    1|\n",
            "|   Business Insider|      Theron Mohamed|    1|\n",
            "|                NPR|       Daniel Estrin|    1|\n",
            "|   Business Insider|Lloyd Lee,Joshua ...|    1|\n",
            "|           ABC News|        Monica Potts|    1|\n",
            "|Yahoo Entertainment|JON GAMBRELL and ...|    1|\n",
            "+-------------------+--------------------+-----+\n",
            "only showing top 20 rows\n",
            "\n",
            "\n",
            "Comparaison des temps d'exécution :\n",
            "Répartition générale : 0.8986 secondes\n",
            "Répartition par 'Source' et 'Author' : 0.6598 secondes\n"
          ]
        }
      ]
    },
    {
      "cell_type": "markdown",
      "source": [
        "La répartition par `Source` et `Author` a réduit le temps d'exécution.\n",
        "\n",
        "Dans le premier cas, avec une répartition générale, les données sont réparties en 2 partitions sans tenir compte des colonnes `Source` et `Author`.\n",
        "Lors du `groupBy('Source', 'Author')`, Spark doit alors réorganiser les données entre les partitions, car les lignes avec les mêmes valeurs de `Source` et `Author` peuvent être dispersées sur plusieurs partitions.\n",
        "Cela déclenche un **shuffle** : les données doivent être déplacées d'une partition à l'autre pour regrouper les valeurs similaires, ce qui ralentit le traitement.\n",
        "\n",
        "Dans le second cas, avant d'effectuer le `groupBy`, nous avons explicitement réparti les données par `Source` et `Author`. Cela signifie que toutes les lignes ayant les mêmes valeurs pour ces colonnes sont regroupées dans les mêmes partitions dès le départ.\n",
        "Ainsi, lorsque Spark effectue le `groupBy`, il n'a plus besoin de réorganiser les données : le **shuffle** est évité, car les données sont déjà bien organisées pour l'agrégation, ce qui accélère le traitement. Bien sûr, ici la différence de temps ne nous change pas la vie, mais dans un cas hypothétique ou nous avions de milliards d'articles, l'optimisation prendrait tout son sens.\n"
      ],
      "metadata": {
        "id": "xF4H7CgUkE66"
      }
    },
    {
      "cell_type": "code",
      "source": [
        "# Filtrer les articles publiés en octobre 2024\n",
        "from pyspark.sql.functions import month, year, col\n",
        "df_october_2024 = df.filter((year(col(\"Date\")) == 2024) & (month(col(\"Date\")) == 10))\n",
        "df_october_2024.show()"
      ],
      "metadata": {
        "colab": {
          "base_uri": "https://localhost:8080/"
        },
        "id": "B6aoolI10pIC",
        "outputId": "5f067b82-82d8-46ec-ddaa-4f1cfaf2ab1a"
      },
      "execution_count": 15,
      "outputs": [
        {
          "output_type": "stream",
          "name": "stdout",
          "text": [
            "+--------------------+--------------------+-------------------+----------+--------------------+--------------------+--------------------+--------+\n",
            "|               Title|              Author|             Source|      Date|                 URL|         Description|             Content|Category|\n",
            "+--------------------+--------------------+-------------------+----------+--------------------+--------------------+--------------------+--------+\n",
            "|Israel is weighin...|      Mikhaila Friel|   Business Insider|2024-10-03|https://www.busin...|Experts predict I...|Iran attacked Isr...|       1|\n",
            "|Motorola's new Mo...|vishnu.skar@gmail...|    Android Central|2024-10-03|https://www.andro...|Motorola unveils ...|What you need to ...|       1|\n",
            "|A year into Israe...|Kevin Shalvey, Da...|           ABC News|2024-10-07|https://abcnews.g...|The terror attack...|LONDON -- The Ham...|       1|\n",
            "|Soldier who attem...|         Jon Haworth|           ABC News|2024-10-12|https://abcnews.g...|A United States A...|A United States A...|       1|\n",
            "|Tensions are high...|Erica Star Domena...|   Business Insider|2024-10-07|https://www.busin...|A year after Hama...|A year after Hama...|       1|\n",
            "|Rupee logs worst ...|      Jaspreet Kalra|Yahoo Entertainment|2024-10-04|https://finance.y...|The Indian rupee ...|   By Jaspreet Kalra|       1|\n",
            "|After a year of w...| Shannon K. Kingston|           ABC News|2024-10-07|https://abcnews.g...|Experts say the f...|During Secretary ...|       1|\n",
            "|Biden and Netanya...|    Al Jazeera Staff| Al Jazeera English|2024-10-09|https://www.aljaz...|White House says ...|Washington, DC Un...|       1|\n",
            "|A report claims t...|jez@windowscentra...|    Windows Central|2024-10-10|https://www.windo...|A new report sugg...|What you need to ...|       1|\n",
            "|Biden Can End His...|   Mustafa Barghouti|               Time|2024-10-09|https://time.com/...|He just needs to ...|For the past 12 m...|       1|\n",
            "|Three Top Dividen...|editorial-team@si...|Yahoo Entertainment|2024-10-09|https://finance.y...|Amidst escalating...|Amidst escalating...|       1|\n",
            "|Russia’s Putin me...|          Al Jazeera| Al Jazeera English|2024-10-11|https://www.aljaz...|Presidents' meeti...|Russian President...|       1|\n",
            "|How Israel’s brut...|      Robert Grenier|                Vox|2024-10-04|https://www.vox.c...|As the dust still...|As the dust still...|       1|\n",
            "|Israel steps up i...|      Hannah Abraham|   Business Insider|2024-10-04|https://www.busin...|The air strikes a...|Israel has steppe...|       1|\n",
            "|Iran's missile at...|        Taylor Rains|   Business Insider|2024-10-01|https://www.busin...|Airspace closures...|A Lufthansa fligh...|       1|\n",
            "|Exclusive-Hamas w...|Samia Nakhoul, Ah...|Yahoo Entertainment|2024-10-07|https://uk.news.y...|\"Hamas leader-in-...|By Samia Nakhoul,...|       1|\n",
            "|Iran launches mis...|        Jake Epstein|   Business Insider|2024-10-01|https://www.busin...|The US military h...|An Iranian ballis...|       1|\n",
            "|3 Reliable Divide...|editorial-team@si...|Yahoo Entertainment|2024-10-10|https://finance.y...|In a week marked ...|In a week marked ...|       1|\n",
            "|A trio of crises ...|Alice Tecotzky,Er...|   Business Insider|2024-10-03|https://www.busin...|Political scienti...|Kamala Harris has...|       1|\n",
            "|Israel sends more...|      Rebecca Rosman|                NPR|2024-10-02|https://www.npr.o...|The Middle East i...|\"Israel says it i...|       1|\n",
            "+--------------------+--------------------+-------------------+----------+--------------------+--------------------+--------------------+--------+\n",
            "only showing top 20 rows\n",
            "\n"
          ]
        }
      ]
    },
    {
      "cell_type": "code",
      "source": [
        "print(f\"Nombre d'articles publiés en octobre 2024 : {df_october_2024.count()}\")"
      ],
      "metadata": {
        "colab": {
          "base_uri": "https://localhost:8080/"
        },
        "id": "KH-b_mIb1GUW",
        "outputId": "dfaccab1-52ec-4383-bfbf-a3bddf11e8ea"
      },
      "execution_count": 16,
      "outputs": [
        {
          "output_type": "stream",
          "name": "stdout",
          "text": [
            "Nombre d'articles publiés en octobre 2024 : 49\n"
          ]
        }
      ]
    },
    {
      "cell_type": "code",
      "source": [
        "from pyspark.sql.functions import length\n",
        "\n",
        "# Calculer la longueur de chaque article (colonne \"Content\")\n",
        "df = df.withColumn(\"Content_Length\", length(col(\"Content\")))\n",
        "df.show()"
      ],
      "metadata": {
        "colab": {
          "base_uri": "https://localhost:8080/"
        },
        "id": "QBftuMNG1rxJ",
        "outputId": "c9ea4ece-f2c2-4641-9a2b-63a4828cc369"
      },
      "execution_count": 17,
      "outputs": [
        {
          "output_type": "stream",
          "name": "stdout",
          "text": [
            "+--------------------+--------------------+-------------------+----------+--------------------+--------------------+--------------------+--------+--------------+\n",
            "|               Title|              Author|             Source|      Date|                 URL|         Description|             Content|Category|Content_Length|\n",
            "+--------------------+--------------------+-------------------+----------+--------------------+--------------------+--------------------+--------+--------------+\n",
            "|Israel is weighin...|      Mikhaila Friel|   Business Insider|2024-10-03|https://www.busin...|Experts predict I...|Iran attacked Isr...|       1|           127|\n",
            "|How serious shoul...|bradypsnyder@gmai...|    Android Central|2024-09-16|https://www.andro...|Motorola has had ...|What you need to ...|       1|            21|\n",
            "|The US is sending...|    Thibault Spirlet|   Business Insider|2024-09-24|https://www.busin...|It comes after Le...|Smoke rose from I...|       1|           112|\n",
            "|Motorola's new Mo...|vishnu.skar@gmail...|    Android Central|2024-10-03|https://www.andro...|Motorola unveils ...|What you need to ...|       1|            21|\n",
            "|A year into Israe...|Kevin Shalvey, Da...|           ABC News|2024-10-07|https://abcnews.g...|The terror attack...|LONDON -- The Ham...|       1|            54|\n",
            "|Did the Abraham A...|       Matthew Petti|Yahoo Entertainment|2024-09-30|https://www.yahoo...|Many conservative...|The Abraham Accor...|       1|           214|\n",
            "|What Israel’s Ass...|        Robin Wright|     The New Yorker|2024-09-28|https://www.newyo...|Robin Wright repo...|Hassan Nasrallah,...|       1|           214|\n",
            "|Russia is likely ...|    Thibault Spirlet|   Business Insider|2024-10-03|https://www.busin...|As tensions rise ...|Iranian President...|       1|           183|\n",
            "|A deployed US Nav...|        Jake Epstein|   Business Insider|2024-09-24|https://www.busin...|\"The replenishmen...|  an official said.\"|       1|            19|\n",
            "|Tensions are high...|Erica Star Domena...|   Business Insider|2024-10-07|https://www.busin...|A year after Hama...|A year after Hama...|       1|           168|\n",
            "|Rupee logs worst ...|      Jaspreet Kalra|Yahoo Entertainment|2024-10-04|https://finance.y...|The Indian rupee ...|   By Jaspreet Kalra|       1|            17|\n",
            "|After a year of w...| Shannon K. Kingston|           ABC News|2024-10-07|https://abcnews.g...|Experts say the f...|During Secretary ...|       1|           214|\n",
            "|Biden and Netanya...|    Al Jazeera Staff| Al Jazeera English|2024-10-09|https://www.aljaz...|White House says ...|Washington, DC Un...|       1|           214|\n",
            "|How Qatar Became ...|Allen Fromherz / ...|               Time|2024-09-30|https://time.com/...|The history behin...|Ismail Haniyeh, p...|       1|           214|\n",
            "|A report claims t...|jez@windowscentra...|    Windows Central|2024-10-10|https://www.windo...|A new report sugg...|What you need to ...|       1|            21|\n",
            "|Biden Can End His...|   Mustafa Barghouti|               Time|2024-10-09|https://time.com/...|He just needs to ...|For the past 12 m...|       1|           214|\n",
            "|Three Top Dividen...|editorial-team@si...|Yahoo Entertainment|2024-10-09|https://finance.y...|Amidst escalating...|Amidst escalating...|       1|           214|\n",
            "|Kirby says U.S. d...|            ABC News|           ABC News|2024-09-22|https://abcnews.g...|\"White House Nati...|With fighting bet...|       1|           213|\n",
            "|Oil prices are ri...|            Max Zahn|           ABC News|2024-10-09|https://abcnews.g...|Oil prices have s...|An escalation of ...|       1|           195|\n",
            "|How Israel’s brut...|      Robert Grenier|                Vox|2024-10-04|https://www.vox.c...|As the dust still...|As the dust still...|       1|           215|\n",
            "+--------------------+--------------------+-------------------+----------+--------------------+--------------------+--------------------+--------+--------------+\n",
            "only showing top 20 rows\n",
            "\n"
          ]
        }
      ]
    },
    {
      "cell_type": "code",
      "source": [
        "from pyspark.sql.functions import avg\n",
        "average_content_length = df.agg(avg(\"Content_Length\")).collect()[0][0]\n",
        "print(f\"Longueur moyenne des articles : {average_content_length:.2f} caractères\")"
      ],
      "metadata": {
        "colab": {
          "base_uri": "https://localhost:8080/"
        },
        "id": "8Wg_37Mr3Esx",
        "outputId": "20840258-ccbf-42ae-baf8-755c2ae88202"
      },
      "execution_count": 18,
      "outputs": [
        {
          "output_type": "stream",
          "name": "stdout",
          "text": [
            "Longueur moyenne des articles : 161.45 caractères\n"
          ]
        }
      ]
    },
    {
      "cell_type": "markdown",
      "source": [
        "# **Exploration RDD**"
      ],
      "metadata": {
        "id": "DzQnBRWP7X4C"
      }
    },
    {
      "cell_type": "markdown",
      "source": [
        "Les RDDs (Resilient Distributed Datasets) sont l'API fondamentale de Spark pour manipuler des données distribuées de manière parallèle et tolérante aux pannes. Ils permettent des transformations immuables comme map, filter, et reduce, tout en distribuant automatiquement les données à travers les nœuds d'un cluster."
      ],
      "metadata": {
        "id": "5-q6cBaj7avi"
      }
    },
    {
      "cell_type": "code",
      "source": [
        "rdd_df = df.rdd\n",
        "rdd_df.take(2)"
      ],
      "metadata": {
        "colab": {
          "base_uri": "https://localhost:8080/"
        },
        "id": "FWzOXhby7lWw",
        "outputId": "ba55a6b8-70d3-4877-b3b4-c2d4d8666a79"
      },
      "execution_count": 19,
      "outputs": [
        {
          "output_type": "execute_result",
          "data": {
            "text/plain": [
              "[Row(Title=\"Israel is weighing up how to strike back against Iran. Here's how it could play out.\", Author='Mikhaila Friel', Source='Business Insider', Date=datetime.date(2024, 10, 3), URL='https://www.businessinsider.com/israel-potential-counterattack-iran-options-assasinations-oil-nuclear-military-bases-2024-10', Description=\"Experts predict Israel's counterattack on Iran could hit oil production or nuclear facilities.\", Content='Iran attacked Israel with nearly 200 missiles on Tuesday. Israel is now weighing up its response.JACK GUEZ/AFP via Getty Images', Category=1, Content_Length=127),\n",
              " Row(Title=\"How serious should we be taking Motorola's five-year OS update promise?\", Author='bradypsnyder@gmail.com (Brady Snyder)', Source='Android Central', Date=datetime.date(2024, 9, 16), URL='https://www.androidcentral.com/phones/how-serious-should-we-be-taking-motorolas-five-year-os-update-promise', Description=\"Motorola has had issues with providing timely Android version updates in the past, but now it's promising five years of upgrades on the Edge 50 Neo.\", Content='What you need to know', Category=1, Content_Length=21)]"
            ]
          },
          "metadata": {},
          "execution_count": 19
        }
      ]
    },
    {
      "cell_type": "code",
      "source": [
        "# Compter le nombre d'articles par source et par autheur\n",
        "rdd_df.map(lambda row: ((row.Source, row.Author), 1)) \\\n",
        "                       .reduceByKey(lambda a, b: a + b) \\\n",
        "                       .sortBy(lambda x: x[1], ascending=False).take(4)"
      ],
      "metadata": {
        "colab": {
          "base_uri": "https://localhost:8080/"
        },
        "id": "1h5NybZO7wNa",
        "outputId": "d7452172-55f6-4fde-dd1b-75fd4f228410"
      },
      "execution_count": 20,
      "outputs": [
        {
          "output_type": "execute_result",
          "data": {
            "text/plain": [
              "[(('Business Insider', 'Jake Epstein'), 4),\n",
              " (('Yahoo Entertainment', 'Reuters'), 3),\n",
              " (('Business Insider', 'Thibault Spirlet'), 2),\n",
              " (('ABC News', 'Shannon K. Kingston'), 2)]"
            ]
          },
          "metadata": {},
          "execution_count": 20
        }
      ]
    },
    {
      "cell_type": "code",
      "source": [
        "# filtrer les articles publiés en octobre 2024\n",
        "rdd_october_2024 = rdd_df.filter(lambda row: row.Date.year == 2024 and row.Date.month == 10)\n",
        "rdd_october_2024.take(2)\n"
      ],
      "metadata": {
        "colab": {
          "base_uri": "https://localhost:8080/"
        },
        "id": "TGLUiLQ880Zi",
        "outputId": "7ba20d3b-559f-4f32-ecf6-1b01a8cd9fe7"
      },
      "execution_count": 21,
      "outputs": [
        {
          "output_type": "execute_result",
          "data": {
            "text/plain": [
              "[Row(Title=\"Israel is weighing up how to strike back against Iran. Here's how it could play out.\", Author='Mikhaila Friel', Source='Business Insider', Date=datetime.date(2024, 10, 3), URL='https://www.businessinsider.com/israel-potential-counterattack-iran-options-assasinations-oil-nuclear-military-bases-2024-10', Description=\"Experts predict Israel's counterattack on Iran could hit oil production or nuclear facilities.\", Content='Iran attacked Israel with nearly 200 missiles on Tuesday. Israel is now weighing up its response.JACK GUEZ/AFP via Getty Images', Category=1, Content_Length=127),\n",
              " Row(Title=\"Motorola's new Moto G phone now has 'military-grade' toughness and an IP68 rating\", Author='vishnu.skar@gmail.com (Vishnu Sarangapurkar)', Source='Android Central', Date=datetime.date(2024, 10, 3), URL='https://www.androidcentral.com/phones/motorola-announces-moto-g75-for-europe-and-other-markets', Description='Motorola unveils its new budget Android handset for European and Middle Eastern markets.', Content='What you need to know', Category=1, Content_Length=21)]"
            ]
          },
          "metadata": {},
          "execution_count": 21
        }
      ]
    },
    {
      "cell_type": "code",
      "source": [
        "print(f\"Nombre d'articles publiés en octobre 2024 : {rdd_october_2024.count()}\")"
      ],
      "metadata": {
        "colab": {
          "base_uri": "https://localhost:8080/"
        },
        "id": "8EKsQH-U9WIH",
        "outputId": "d6e9aa42-553a-419d-e066-25ee35f265ab"
      },
      "execution_count": 22,
      "outputs": [
        {
          "output_type": "stream",
          "name": "stdout",
          "text": [
            "Nombre d'articles publiés en octobre 2024 : 49\n"
          ]
        }
      ]
    },
    {
      "cell_type": "code",
      "source": [
        "# Calculer la longueur de chaque article\n",
        "rdd_with_lengths = rdd_df.map(lambda row: (row, len(row.Content)))\n",
        "\n",
        "# Afficher les résultats avec les longueurs\n",
        "rdd_with_lengths.take(2)\n"
      ],
      "metadata": {
        "colab": {
          "base_uri": "https://localhost:8080/"
        },
        "id": "wYt_Tsxw9f8R",
        "outputId": "972c5c49-48d0-43e0-b5e7-4577e33d21d8"
      },
      "execution_count": 23,
      "outputs": [
        {
          "output_type": "execute_result",
          "data": {
            "text/plain": [
              "[(Row(Title=\"Israel is weighing up how to strike back against Iran. Here's how it could play out.\", Author='Mikhaila Friel', Source='Business Insider', Date=datetime.date(2024, 10, 3), URL='https://www.businessinsider.com/israel-potential-counterattack-iran-options-assasinations-oil-nuclear-military-bases-2024-10', Description=\"Experts predict Israel's counterattack on Iran could hit oil production or nuclear facilities.\", Content='Iran attacked Israel with nearly 200 missiles on Tuesday. Israel is now weighing up its response.JACK GUEZ/AFP via Getty Images', Category=1, Content_Length=127),\n",
              "  127),\n",
              " (Row(Title=\"How serious should we be taking Motorola's five-year OS update promise?\", Author='bradypsnyder@gmail.com (Brady Snyder)', Source='Android Central', Date=datetime.date(2024, 9, 16), URL='https://www.androidcentral.com/phones/how-serious-should-we-be-taking-motorolas-five-year-os-update-promise', Description=\"Motorola has had issues with providing timely Android version updates in the past, but now it's promising five years of upgrades on the Edge 50 Neo.\", Content='What you need to know', Category=1, Content_Length=21),\n",
              "  21)]"
            ]
          },
          "metadata": {},
          "execution_count": 23
        }
      ]
    },
    {
      "cell_type": "code",
      "source": [
        "# Calculer la longueur moyenne des articles\n",
        "lengths_rdd = rdd_df.map(lambda row: len(row.Content))\n",
        "total_length = lengths_rdd.reduce(lambda a, b: a + b)\n",
        "count = lengths_rdd.count()\n",
        "average_length = total_length / count\n",
        "\n",
        "# Afficher la longueur moyenne\n",
        "print(f\"Longueur moyenne des articles : {average_length:.2f} caractères\")\n"
      ],
      "metadata": {
        "colab": {
          "base_uri": "https://localhost:8080/"
        },
        "id": "aNAevDs9931Z",
        "outputId": "85a5c5b4-10e6-4cc8-a877-87e5118b90a5"
      },
      "execution_count": 24,
      "outputs": [
        {
          "output_type": "stream",
          "name": "stdout",
          "text": [
            "Longueur moyenne des articles : 161.45 caractères\n"
          ]
        }
      ]
    },
    {
      "cell_type": "markdown",
      "source": [
        "Bien que les RDDs offrent une flexibilité accrue avec des transformations de bas niveau comme `map`, `filter`, et `reduceByKey`, ils ne profitent pas des optimisations automatiques de Spark, comme celles des DataFrames via Catalyst et Tungsten. Cette absence d'optimisation les rend souvent moins performants, surtout pour des tâches complexes ou des volumes importants.\n",
        "\n",
        "À l'inverse, les DataFrames sont optimisés automatiquement, ce qui accélère considérablement les transformations tout en offrant une syntaxe proche de SQL. Voyons une comparaison du temps d'exécution entre RDD et DataFrame pour le calcul de la longueur moyenne des articles."
      ],
      "metadata": {
        "id": "F1-u4wr9-LSx"
      }
    },
    {
      "cell_type": "markdown",
      "source": [
        "**Comparaison performance rdd vs dataframe**"
      ],
      "metadata": {
        "id": "DOl3vF1IDaFw"
      }
    },
    {
      "cell_type": "code",
      "source": [
        "import time\n",
        "\n",
        "# Calculer la longueur moyenne des articles avec DataFrame\n",
        "start_time_df = time.time()\n",
        "df = df.withColumn(\"Content_Length\", length(col(\"Content\")))\n",
        "average_content_length_df = df.agg(avg(\"Content_Length\").alias(\"Avg_Content_Length\")).collect()[0][\"Avg_Content_Length\"]\n",
        "end_time_df = time.time()\n",
        "\n",
        "# Calculer la longueur moyenne des articles avec RDD\n",
        "start_time_rdd = time.time()\n",
        "rdd = df.rdd\n",
        "lengths_rdd = rdd.map(lambda row: len(row.Content) if row.Content else 0)\n",
        "total_length_rdd = lengths_rdd.reduce(lambda a, b: a + b)\n",
        "count_rdd = lengths_rdd.count()\n",
        "average_content_length_rdd = total_length_rdd / count_rdd\n",
        "end_time_rdd = time.time()\n",
        "\n",
        "# Calculer les temps d'exécution\n",
        "execution_time_df = end_time_df - start_time_df\n",
        "execution_time_rdd = end_time_rdd - start_time_rdd\n",
        "\n",
        "# Affichage formaté des résultats\n",
        "print(\"Comparaison entre DataFrame et RDD pour le calcul de la longueur moyenne des articles\")\n",
        "print(\"---------------------------------------------------------------------\")\n",
        "print(f\"1. Avec DataFrame :\")\n",
        "print(f\"   - Taille moyenne des articles : {average_content_length_df:.2f} caractères\")\n",
        "print(f\"   - Temps d'exécution : {execution_time_df} \")\n",
        "print(\"---------------------------------------------------------------------\")\n",
        "print(f\"2. Avec RDD :\")\n",
        "print(f\"   - Taille moyenne des articles : {average_content_length_rdd:.2f} caractères\")\n",
        "print(f\"   - Temps d'exécution : {execution_time_rdd} \")\n",
        "print(\"---------------------------------------------------------------------\")\n"
      ],
      "metadata": {
        "colab": {
          "base_uri": "https://localhost:8080/"
        },
        "id": "c1J6vyQk4sqE",
        "outputId": "522b47b1-e8ed-4d5f-c8ed-6d34d3bbadde"
      },
      "execution_count": 25,
      "outputs": [
        {
          "output_type": "stream",
          "name": "stdout",
          "text": [
            "Comparaison entre DataFrame et RDD pour le calcul de la longueur moyenne des articles\n",
            "---------------------------------------------------------------------\n",
            "1. Avec DataFrame :\n",
            "   - Taille moyenne des articles : 161.45 caractères\n",
            "   - Temps d'exécution : 0.6586177349090576 \n",
            "---------------------------------------------------------------------\n",
            "2. Avec RDD :\n",
            "   - Taille moyenne des articles : 161.45 caractères\n",
            "   - Temps d'exécution : 1.161259412765503 \n",
            "---------------------------------------------------------------------\n"
          ]
        }
      ]
    },
    {
      "cell_type": "markdown",
      "source": [
        "On voit que la différence est importante pour une tâche aussi simple que le calcul de la longueur moyenne, avec un petit volume de données. Cette différence va s'accentuer rapidement lorsque les tâches deviendront plus complexes et que la taille des données augmentera. Dans la suite, on va utiliser le dataframe."
      ],
      "metadata": {
        "id": "M1YVon1TCZzF"
      }
    },
    {
      "cell_type": "markdown",
      "source": [
        "# **Spark SQL**"
      ],
      "metadata": {
        "id": "2UI3HfA3zNcx"
      }
    },
    {
      "cell_type": "code",
      "source": [
        "# Créer une table temporaire à partir du DataFrame\n",
        "df.createOrReplaceTempView(\"articles\")"
      ],
      "metadata": {
        "id": "nPWPN68lytlK"
      },
      "execution_count": 26,
      "outputs": []
    },
    {
      "cell_type": "code",
      "source": [
        "# Exécuter une requête SQL pour compter le nombre d'article par auteur\n",
        "resultat_auteurs = spark.sql(\"\"\"\n",
        "    SELECT Author, Source, COUNT(*) AS Nombre_Articles\n",
        "    FROM articles\n",
        "    GROUP BY Author, Source\n",
        "    ORDER BY Nombre_Articles DESC\n",
        "\"\"\")\n",
        "resultat_auteurs.show()"
      ],
      "metadata": {
        "colab": {
          "base_uri": "https://localhost:8080/"
        },
        "id": "qPS_YqtiyyYy",
        "outputId": "5f9e5750-3d44-4d7d-eff1-fcbe2e39f95f"
      },
      "execution_count": 27,
      "outputs": [
        {
          "output_type": "stream",
          "name": "stdout",
          "text": [
            "+--------------------+-------------------+---------------+\n",
            "|              Author|             Source|Nombre_Articles|\n",
            "+--------------------+-------------------+---------------+\n",
            "|        Jake Epstein|   Business Insider|              4|\n",
            "|             Reuters|Yahoo Entertainment|              3|\n",
            "|      Hannah Abraham|   Business Insider|              2|\n",
            "|    Thibault Spirlet|   Business Insider|              2|\n",
            "|editorial-team@si...|Yahoo Entertainment|              2|\n",
            "| Shannon K. Kingston|           ABC News|              2|\n",
            "|The Associated Press|Yahoo Entertainment|              2|\n",
            "|Kevin Shalvey, Da...|           ABC News|              1|\n",
            "|    Al Jazeera Staff| Al Jazeera English|              1|\n",
            "|Jake Epstein,Chri...|   Business Insider|              1|\n",
            "|       Gus Contreras|                NPR|              1|\n",
            "|Alice Tecotzky,Er...|   Business Insider|              1|\n",
            "|        Inside Story| Al Jazeera English|              1|\n",
            "|       Matthew Petti|Yahoo Entertainment|              1|\n",
            "|       Matthew Gault|        Gizmodo.com|              1|\n",
            "|            ABC News|           ABC News|              1|\n",
            "|         Emma Bowman|                NPR|              1|\n",
            "|      Dexter Filkins|     The New Yorker|              1|\n",
            "|        Taylor Rains|   Business Insider|              1|\n",
            "|         Huileng Tan|   Business Insider|              1|\n",
            "+--------------------+-------------------+---------------+\n",
            "only showing top 20 rows\n",
            "\n"
          ]
        }
      ]
    },
    {
      "cell_type": "code",
      "source": [
        "# Exécuter une autre requête SQL pour obtenir les articles publiés en octobre 2024\n",
        "resultat_octobre = spark.sql(\"\"\"\n",
        "    SELECT *\n",
        "    FROM articles\n",
        "    WHERE Date >= '2024-10-01' AND Date < '2024-11-01'\n",
        "\"\"\")\n",
        "resultat_octobre.show()"
      ],
      "metadata": {
        "colab": {
          "base_uri": "https://localhost:8080/"
        },
        "id": "CFXSKMAmzVhw",
        "outputId": "e1087dd9-797d-462d-ed34-deaf912c449f"
      },
      "execution_count": 28,
      "outputs": [
        {
          "output_type": "stream",
          "name": "stdout",
          "text": [
            "+--------------------+--------------------+-------------------+----------+--------------------+--------------------+--------------------+--------+--------------+\n",
            "|               Title|              Author|             Source|      Date|                 URL|         Description|             Content|Category|Content_Length|\n",
            "+--------------------+--------------------+-------------------+----------+--------------------+--------------------+--------------------+--------+--------------+\n",
            "|Israel is weighin...|      Mikhaila Friel|   Business Insider|2024-10-03|https://www.busin...|Experts predict I...|Iran attacked Isr...|       1|           127|\n",
            "|Motorola's new Mo...|vishnu.skar@gmail...|    Android Central|2024-10-03|https://www.andro...|Motorola unveils ...|What you need to ...|       1|            21|\n",
            "|A year into Israe...|Kevin Shalvey, Da...|           ABC News|2024-10-07|https://abcnews.g...|The terror attack...|LONDON -- The Ham...|       1|            54|\n",
            "|Soldier who attem...|         Jon Haworth|           ABC News|2024-10-12|https://abcnews.g...|A United States A...|A United States A...|       1|           214|\n",
            "|Tensions are high...|Erica Star Domena...|   Business Insider|2024-10-07|https://www.busin...|A year after Hama...|A year after Hama...|       1|           168|\n",
            "|Rupee logs worst ...|      Jaspreet Kalra|Yahoo Entertainment|2024-10-04|https://finance.y...|The Indian rupee ...|   By Jaspreet Kalra|       1|            17|\n",
            "|After a year of w...| Shannon K. Kingston|           ABC News|2024-10-07|https://abcnews.g...|Experts say the f...|During Secretary ...|       1|           214|\n",
            "|Biden and Netanya...|    Al Jazeera Staff| Al Jazeera English|2024-10-09|https://www.aljaz...|White House says ...|Washington, DC Un...|       1|           214|\n",
            "|A report claims t...|jez@windowscentra...|    Windows Central|2024-10-10|https://www.windo...|A new report sugg...|What you need to ...|       1|            21|\n",
            "|Biden Can End His...|   Mustafa Barghouti|               Time|2024-10-09|https://time.com/...|He just needs to ...|For the past 12 m...|       1|           214|\n",
            "|Three Top Dividen...|editorial-team@si...|Yahoo Entertainment|2024-10-09|https://finance.y...|Amidst escalating...|Amidst escalating...|       1|           214|\n",
            "|Russia’s Putin me...|          Al Jazeera| Al Jazeera English|2024-10-11|https://www.aljaz...|Presidents' meeti...|Russian President...|       1|           173|\n",
            "|How Israel’s brut...|      Robert Grenier|                Vox|2024-10-04|https://www.vox.c...|As the dust still...|As the dust still...|       1|           215|\n",
            "|Israel steps up i...|      Hannah Abraham|   Business Insider|2024-10-04|https://www.busin...|The air strikes a...|Israel has steppe...|       1|           121|\n",
            "|Iran's missile at...|        Taylor Rains|   Business Insider|2024-10-01|https://www.busin...|Airspace closures...|A Lufthansa fligh...|       1|           158|\n",
            "|Exclusive-Hamas w...|Samia Nakhoul, Ah...|Yahoo Entertainment|2024-10-07|https://uk.news.y...|\"Hamas leader-in-...|By Samia Nakhoul,...|       1|            49|\n",
            "|Iran launches mis...|        Jake Epstein|   Business Insider|2024-10-01|https://www.busin...|The US military h...|An Iranian ballis...|       1|           214|\n",
            "|3 Reliable Divide...|editorial-team@si...|Yahoo Entertainment|2024-10-10|https://finance.y...|In a week marked ...|In a week marked ...|       1|           214|\n",
            "|A trio of crises ...|Alice Tecotzky,Er...|   Business Insider|2024-10-03|https://www.busin...|Political scienti...|Kamala Harris has...|       1|            83|\n",
            "|Israel sends more...|      Rebecca Rosman|                NPR|2024-10-02|https://www.npr.o...|The Middle East i...|\"Israel says it i...|       1|           189|\n",
            "+--------------------+--------------------+-------------------+----------+--------------------+--------------------+--------------------+--------+--------------+\n",
            "only showing top 20 rows\n",
            "\n"
          ]
        }
      ]
    },
    {
      "cell_type": "code",
      "source": [
        "# obtenir la longueur des articles\n",
        "resultat_long_articles = spark.sql(\"\"\"\n",
        "    SELECT Title, LENGTH(Content) AS Longueur_Content\n",
        "    FROM articles\n",
        "    ORDER BY Longueur_Content DESC\n",
        "\"\"\")\n",
        "resultat_long_articles.show()"
      ],
      "metadata": {
        "colab": {
          "base_uri": "https://localhost:8080/"
        },
        "id": "aGmMskTIzc9E",
        "outputId": "1d815599-dc3e-42b0-c9d4-fdf5fc6f2b4c"
      },
      "execution_count": 29,
      "outputs": [
        {
          "output_type": "stream",
          "name": "stdout",
          "text": [
            "+--------------------+----------------+\n",
            "|               Title|Longueur_Content|\n",
            "+--------------------+----------------+\n",
            "|How Israel’s brut...|             215|\n",
            "|Biden and Netanya...|             214|\n",
            "| 331 Days of Failure|             214|\n",
            "|US has yet to lay...|             214|\n",
            "|Why Netanyahu Won...|             214|\n",
            "|Middle East lates...|             214|\n",
            "|Everything We Kno...|             214|\n",
            "|China 'firmly sup...|             214|\n",
            "|What Americans th...|             214|\n",
            "|What Israel’s Ass...|             214|\n",
            "|What’s Next in th...|             214|\n",
            "|Opinion - Israel ...|             214|\n",
            "|One boy's story s...|             214|\n",
            "|Pig Butchering Sc...|             214|\n",
            "|Iranian Ballistic...|             214|\n",
            "|Biden Can End His...|             214|\n",
            "|The Middle East i...|             214|\n",
            "|US Navy warships ...|             214|\n",
            "|Iran launches mis...|             214|\n",
            "|Three Top Dividen...|             214|\n",
            "+--------------------+----------------+\n",
            "only showing top 20 rows\n",
            "\n"
          ]
        }
      ]
    },
    {
      "cell_type": "markdown",
      "source": [
        "# **Prétraitement**"
      ],
      "metadata": {
        "id": "pp99YuwIVSVp"
      }
    },
    {
      "cell_type": "code",
      "source": [
        "from pyspark.sql import SparkSession\n",
        "from pyspark.sql.functions import col, lower, regexp_replace\n",
        "from pyspark.ml import Pipeline\n",
        "from pyspark.ml.feature import Tokenizer, StopWordsRemover, HashingTF, IDF"
      ],
      "metadata": {
        "id": "gqEdrpUve_lH"
      },
      "execution_count": 30,
      "outputs": []
    },
    {
      "cell_type": "code",
      "source": [
        "# Prétraitement des données\n",
        "df_clean = df.dropDuplicates().na.drop()\n",
        "\n",
        "# Transformation des colonnes : convertir en minuscules et supprimer la ponctuation\n",
        "df_clean = df_clean.withColumn(\"Title\", regexp_replace(lower(col(\"Title\")), \"[^a-zA-Z\\\\s]\", \"\")) \\\n",
        "                   .withColumn(\"Description\", regexp_replace(lower(col(\"Description\")), \"[^a-zA-Z\\\\s]\", \"\")) \\\n",
        "                   .withColumn(\"Content\", regexp_replace(lower(col(\"Content\")), \"[^a-zA-Z\\\\s]\", \"\"))\n",
        "\n",
        "# Tokénisation\n",
        "tokenizer = Tokenizer(inputCol=\"Description\", outputCol=\"tokens\")\n",
        "\n",
        "# Suppression des mots vides\n",
        "stopwords_remover = StopWordsRemover(inputCol=\"tokens\", outputCol=\"filtered_tokens\")\n",
        "\n",
        "# Création de vecteurs de caractéristiques avec CountVectorizer\n",
        "count_vectorizer = CountVectorizer(inputCol=\"filtered_tokens\", outputCol=\"features\")\n",
        "\n",
        "# Création du pipeline (sans IDF)\n",
        "pipeline = Pipeline(stages=[tokenizer, stopwords_remover, count_vectorizer])\n",
        "\n",
        "# Ajustement du pipeline au DataFrame nettoyé\n",
        "pipeline_model = pipeline.fit(df_clean)\n",
        "\n",
        "# Transformation des données pour obtenir le DataFrame final\n",
        "df_final = pipeline_model.transform(df_clean)\n",
        "\n",
        "# Affichage des résultats\n",
        "df_final.select(\"Date\", \"Title\", \"Description\", \"Content\", \"filtered_tokens\", \"features\").show(truncate=True)\n"
      ],
      "metadata": {
        "colab": {
          "base_uri": "https://localhost:8080/"
        },
        "id": "e42TBMDpgksx",
        "outputId": "13ccdae2-3fc3-43c1-99cf-2a3a4b201626"
      },
      "execution_count": 31,
      "outputs": [
        {
          "output_type": "stream",
          "name": "stdout",
          "text": [
            "+----------+--------------------+--------------------+--------------------+--------------------+--------------------+\n",
            "|      Date|               Title|         Description|             Content|     filtered_tokens|            features|\n",
            "+----------+--------------------+--------------------+--------------------+--------------------+--------------------+\n",
            "|2024-10-09|biden and netanya...|white house says ...|washington dc uni...|[white, house, sa...|(613,[6,14,37,93,...|\n",
            "|2024-09-26|israels air war m...|the israeli air f...|waves of israeli ...|[israeli, air, fo...|(613,[3,4,8,12,33...|\n",
            "|2024-09-30|did the abraham a...|many conservative...|the abraham accor...|[many, conservati...|(613,[0,2,5,57,87...|\n",
            "|2024-09-24|a deployed us nav...|the replenishment...|    an official said|[replenishment, o...|(613,[45,58,82,11...|\n",
            "|2024-09-30|how qatar became ...|the history behin...|ismail haniyeh po...|[history, behind,...|(613,[6,13,90,115...|\n",
            "|2024-10-04|middle east lates...|an israeli airstr...|an israeli airstr...|[israeli, airstri...|(613,[3,7,8,37,47...|\n",
            "|2024-10-07|what americans th...|a year after octo...|its been a year s...|[year, october, l...|(613,[0,1,2,3,16,...|\n",
            "|2024-10-04|rupee logs worst ...|the indian rupee ...|   by jaspreet kalra|[indian, rupee, e...|(613,[21,47,73,76...|\n",
            "|2024-10-01|russia calls on i...|russia on tuesday...|moscow reuters  r...|[russia, tuesday,...|(613,[0,1,2,7,10,...|\n",
            "|2024-10-04|israel steps up i...|the air strikes a...|israel has steppe...|[air, strikes, be...|(613,[17,34,38,51...|\n",
            "|2024-10-02|whats next in the...|dexter filkins wr...|when i heard that...|[dexter, filkins,...|(613,[0,2,7,12,15...|\n",
            "|2024-10-07|tensions are high...|a year after hama...|a year after hama...|[year, hamas, att...|(613,[0,1,2,3,9,1...|\n",
            "|2024-10-02|after pressing an...|the biden adminis...|yahoo is using ai...|[biden, administr...|(613,[8,9,14,26,5...|\n",
            "|2024-10-09|oil prices are ri...|oil prices have s...|an escalation of ...|[oil, prices, sur...|(613,[9,21,76,98,...|\n",
            "|2024-10-09|three top dividen...|amidst escalating...|amidst escalating...|[amidst, escalati...|(613,[0,2,5,28,39...|\n",
            "|2024-09-24|hezbollah may cop...|hezbollah has rep...|hezbollah militan...|[hezbollah, repor...|(613,[1,4,41,46,6...|\n",
            "|2024-10-03|russia is likely ...|as tensions rise ...|iranian president...|[tensions, rise, ...|(613,[1,6,19,22,3...|\n",
            "|2024-10-10| reliable dividen...|in a week marked ...|in a week marked ...|[week, marked, es...|(613,[0,2,5,28,39...|\n",
            "|2024-10-07|after a year of w...|experts say the f...|during secretary ...|[experts, say, fa...|(613,[9,19,24,56,...|\n",
            "|2024-10-03|israel is weighin...|experts predict i...|iran attacked isr...|[experts, predict...|(613,[6,15,19,21,...|\n",
            "+----------+--------------------+--------------------+--------------------+--------------------+--------------------+\n",
            "only showing top 20 rows\n",
            "\n"
          ]
        }
      ]
    },
    {
      "cell_type": "markdown",
      "source": [
        "# **Machine learning**"
      ],
      "metadata": {
        "id": "sJZRBmFog6-F"
      }
    },
    {
      "cell_type": "markdown",
      "source": [
        "On applique LDA avec différentes valeurs de k."
      ],
      "metadata": {
        "id": "EsvJ0orwDt9W"
      }
    },
    {
      "cell_type": "code",
      "source": [
        "from pyspark.ml.clustering import LDA\n",
        "\n",
        "# Liste des valeurs de k à tester\n",
        "k_values = [2, 3, 4, 5, 6, 7, 8, 10]\n",
        "\n",
        "# Dictionnaire pour stocker les modèles et les résultats de perplexité\n",
        "lda_models = {}\n",
        "perplexity_results = {}\n",
        "\n",
        "# Boucle pour entraîner le modèle LDA pour chaque valeur de k et calculer la perplexité\n",
        "for k in k_values:\n",
        "    print(f\"Training LDA k={k}\")\n",
        "\n",
        "    # Définir le modèle LDA\n",
        "    lda = LDA(k=k, seed=1, optimizer=\"em\", featuresCol=\"features\")\n",
        "\n",
        "    # Ajuster le modèle sur le dataset\n",
        "    lda_model = lda.fit(df_final)\n",
        "\n",
        "    # Calculer la perplexité\n",
        "    perplexity = lda_model.logPerplexity(df_final)\n",
        "\n",
        "    # Stocker le modèle et le résultat de perplexité\n",
        "    lda_models[k] = lda_model  # Stocker le modèle LDA pour k\n",
        "    perplexity_results[k] = perplexity\n",
        "    print(f\"Perplexity pour k={k}: {perplexity}\")\n",
        "\n",
        "# Afficher les résultats de perplexité pour chaque k\n",
        "for k, perplexity in perplexity_results.items():\n",
        "    print(f\"k={k}, Perplexity={perplexity}\")"
      ],
      "metadata": {
        "colab": {
          "base_uri": "https://localhost:8080/"
        },
        "id": "vqMcDTEBqepg",
        "outputId": "9204ab51-6a85-497e-bb6e-def031bcb5f0"
      },
      "execution_count": 32,
      "outputs": [
        {
          "output_type": "stream",
          "name": "stdout",
          "text": [
            "Training LDA k=2\n",
            "Perplexity pour k=2: 7.506096242179689\n",
            "Training LDA k=3\n",
            "Perplexity pour k=3: 8.977341355598556\n",
            "Training LDA k=4\n",
            "Perplexity pour k=4: 11.147061929403117\n",
            "Training LDA k=5\n",
            "Perplexity pour k=5: 14.233701299034397\n",
            "Training LDA k=6\n",
            "Perplexity pour k=6: 18.21728632080531\n",
            "Training LDA k=7\n",
            "Perplexity pour k=7: 23.1470135492663\n",
            "Training LDA k=8\n",
            "Perplexity pour k=8: 29.021525030985728\n",
            "Training LDA k=10\n",
            "Perplexity pour k=10: 43.6975437023373\n",
            "k=2, Perplexity=7.506096242179689\n",
            "k=3, Perplexity=8.977341355598556\n",
            "k=4, Perplexity=11.147061929403117\n",
            "k=5, Perplexity=14.233701299034397\n",
            "k=6, Perplexity=18.21728632080531\n",
            "k=7, Perplexity=23.1470135492663\n",
            "k=8, Perplexity=29.021525030985728\n",
            "k=10, Perplexity=43.6975437023373\n"
          ]
        }
      ]
    },
    {
      "cell_type": "markdown",
      "source": [
        "k = 2, minimise la perplexité. 2 topics offrent le meilleur compromis pour modéliser efficacement la structure thématique des données sans complexité excessive."
      ],
      "metadata": {
        "id": "v4vTupWeEWm_"
      }
    },
    {
      "cell_type": "code",
      "source": [
        "# ---- Affichage des topics pour le modèle avec k=2 ----\n",
        "\n",
        "# Récupérer le modèle entraîné avec k=2\n",
        "best_lda_model = lda_models[2]  # Modèle pour k=2\n",
        "\n",
        "# Récupérer les topics pour k=2 avec les 10 mots les plus importants par topic\n",
        "topics = best_lda_model.describeTopics(maxTermsPerTopic=10)\n",
        "vocabArray = pipeline_model.stages[2].vocabulary  # Récupérer le vocabulaire\n",
        "\n",
        "# Affichage des topics pour k=2\n",
        "print(f\"\\nTopics for the best LDA Model with k=2:\")\n",
        "for topic in topics.collect():\n",
        "    print(f\"Topic ID: {topic[0]}\")\n",
        "    print(\"Words:\", [vocabArray[i] for i in topic[1]])  # Traduire les indices en mots\n",
        "    print()"
      ],
      "metadata": {
        "colab": {
          "base_uri": "https://localhost:8080/"
        },
        "id": "Jns0gj9jBZNv",
        "outputId": "96c2cc97-e9a9-4872-b763-4133125d12b7"
      },
      "execution_count": 33,
      "outputs": [
        {
          "output_type": "stream",
          "name": "stdout",
          "text": [
            "\n",
            "Topics for the best LDA Model with k=2:\n",
            "Topic ID: 0\n",
            "Words: ['east', 'middle', 'israel', '', 'us', 'war', 'lebanon', 'hezbollah', 'israeli', 'attack']\n",
            "\n",
            "Topic ID: 1\n",
            "Words: ['israel', 'middle', 'iran', 'east', 'hezbollah', '', 'us', 'israeli', 'lebanon', 'said']\n",
            "\n"
          ]
        }
      ]
    },
    {
      "cell_type": "code",
      "source": [
        "df_final.select(\"filtered_tokens\").show(truncate=False)\n"
      ],
      "metadata": {
        "colab": {
          "base_uri": "https://localhost:8080/"
        },
        "id": "71SC1lHrNlKc",
        "outputId": "4a90a70b-125c-4f95-c441-f13008a19ec5"
      },
      "execution_count": 34,
      "outputs": [
        {
          "output_type": "stream",
          "name": "stdout",
          "text": [
            "+----------------------------------------------------------------------------------------------------------------------------------------------------------------------------+\n",
            "|filtered_tokens                                                                                                                                                             |\n",
            "+----------------------------------------------------------------------------------------------------------------------------------------------------------------------------+\n",
            "|[white, house, says, two, leaders, discussed, confrontation, iran, minute, conversation]                                                                                    |\n",
            "|[israeli, air, force, pounding, enormous, missile, arsenal, hezbollah, built, past, years]                                                                                  |\n",
            "|[many, conservatives, saw, abraham, accords, way, get, us, forces, middle, east, architect, agreement, pushing, regime]                                                     |\n",
            "|[replenishment, oiler, usns, big, horn, involved, latest, reports, say, allision, arabian, sea, monday]                                                                     |\n",
            "|[history, behind, small, countrys, role, key, american, ally, also, maintains, warm, relations, iran, taliban, hamas]                                                       |\n",
            "|[israeli, airstrike, cut, main, highway, linking, lebanon, syria, leaving, two, huge, craters, either, side, road, airstrike, friday]                                       |\n",
            "|[year, october, looks, polls, americans, feel, israel, palestine, conflict, middle, east]                                                                                   |\n",
            "|[indian, rupee, ended, nearly, unchanged, friday, cap, worst, weekly, performance, little, four, months, equity, outflows, surged, crude, oil]                              |\n",
            "|[russia, tuesday, called, israel, withdraw, troops, lebanon, warning, attack, lead, escalation, violence, middle, east]                                                     |\n",
            "|[air, strikes, believed, targeted, hashem, safieddine, rumored, successor, hezbollahs, assassinated, leader, hassan, nasrallah]                                             |\n",
            "|[dexter, filkins, writes, one, weekwith, death, hezbollahs, leader, israels, invasion, lebanon, irans, missile, strike, israelthe, situation, entire, middle, east, changed]|\n",
            "|[year, hamas, attacked, israel, october, middle, east, appears, brink, broader, war]                                                                                        |\n",
            "|[biden, administration, says, significant, difference, israeli, actions, expanded, war, iranianbacked, militant, groups]                                                    |\n",
            "|[oil, prices, surged, recent, weeks, israelgazalebanon, war, escalates]                                                                                                     |\n",
            "|[amidst, escalating, middle, east, tensions, unexpected, job, gains, us, global, markets, experienced, mix, volatility, resilience, large]                                  |\n",
            "|[hezbollah, reportedly, learned, valuable, lessons, russia, deploy, israel]                                                                                                 |\n",
            "|[tensions, rise, israel, iran, russia, looking, ways, exploit, situation, interests, according, military, experts]                                                          |\n",
            "|[week, marked, escalating, tensions, middle, east, surprising, job, gains, us, global, markets, experienced, mix, volatility]                                               |\n",
            "|[experts, say, failure, resolve, war, gaza, lasting, effects, united, states]                                                                                               |\n",
            "|[experts, predict, israels, counterattack, iran, hit, oil, production, nuclear, facilities]                                                                                 |\n",
            "+----------------------------------------------------------------------------------------------------------------------------------------------------------------------------+\n",
            "only showing top 20 rows\n",
            "\n"
          ]
        }
      ]
    }
  ]
}