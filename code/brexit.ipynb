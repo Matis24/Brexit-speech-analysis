{
 "cells": [
  {
   "cell_type": "code",
   "execution_count": 2,
   "metadata": {},
   "outputs": [],
   "source": [
    "# Pour lire les données\n",
    "from bs4 import BeautifulSoup\n",
    "import pandas as pd\n",
    "\n",
    "# Pour le prétraitement des données\n",
    "# Token et filtre et lemma\n",
    "import nltk\n",
    "from nltk.tokenize import word_tokenize\n",
    "from nltk.corpus import stopwords\n",
    "from nltk.stem import WordNetLemmatizer\n",
    "\n",
    "# Pour analyse de sentiments\n",
    "from textblob import TextBlob"
   ]
  },
  {
   "cell_type": "markdown",
   "metadata": {},
   "source": [
    "### Lecture des données"
   ]
  },
  {
   "cell_type": "code",
   "execution_count": 3,
   "metadata": {},
   "outputs": [],
   "source": [
    "with open('../data/brexit.txt', 'r', encoding='utf-8') as file:\n",
    "        brexit = file.read()"
   ]
  },
  {
   "cell_type": "code",
   "execution_count": 4,
   "metadata": {},
   "outputs": [],
   "source": [
    "soup = BeautifulSoup(brexit, 'html.parser') \n",
    "texts = soup.find_all('text')\n",
    "\n",
    "brexit_data = pd.DataFrame(columns=['id', 'title', 'author', 'year', 'date', 'section', 'sourcename', 'text'])\n",
    "\n",
    "for text in texts:\n",
    "    text_data = {\n",
    "        'id': text.get('id'),\n",
    "        'title': text.get('title'),\n",
    "        'author': text.get('author'),\n",
    "        'year': text.get('year'),\n",
    "        'date': text.get('date'),\n",
    "        'section': text.get('section'),\n",
    "        'sourcename': text.get('sourcename'),\n",
    "        'text': text.get_text(separator=\" \", strip=True),\n",
    "        'polarity': text.get('polarity')\n",
    "    }\n",
    "    brexit_data = pd.concat([brexit_data, pd.DataFrame([text_data])], ignore_index=True)\n",
    "\n"
   ]
  },
  {
   "cell_type": "code",
   "execution_count": 5,
   "metadata": {},
   "outputs": [
    {
     "data": {
      "text/html": [
       "<div>\n",
       "<style scoped>\n",
       "    .dataframe tbody tr th:only-of-type {\n",
       "        vertical-align: middle;\n",
       "    }\n",
       "\n",
       "    .dataframe tbody tr th {\n",
       "        vertical-align: top;\n",
       "    }\n",
       "\n",
       "    .dataframe thead th {\n",
       "        text-align: right;\n",
       "    }\n",
       "</style>\n",
       "<table border=\"1\" class=\"dataframe\">\n",
       "  <thead>\n",
       "    <tr style=\"text-align: right;\">\n",
       "      <th></th>\n",
       "      <th>id</th>\n",
       "      <th>title</th>\n",
       "      <th>author</th>\n",
       "      <th>year</th>\n",
       "      <th>date</th>\n",
       "      <th>section</th>\n",
       "      <th>sourcename</th>\n",
       "      <th>text</th>\n",
       "    </tr>\n",
       "  </thead>\n",
       "  <tbody>\n",
       "    <tr>\n",
       "      <th>0</th>\n",
       "      <td>1</td>\n",
       "      <td>Economie &amp; EntrepriseLe risque grec fait de no...</td>\n",
       "      <td>NULL</td>\n",
       "      <td>2015</td>\n",
       "      <td>07/01/2015</td>\n",
       "      <td>NULL</td>\n",
       "      <td>Le Monde</td>\n",
       "      <td>Economie &amp; EntrepriseLe risque grec fait de no...</td>\n",
       "    </tr>\n",
       "    <tr>\n",
       "      <th>1</th>\n",
       "      <td>2</td>\n",
       "      <td>David Cameron donne des gages aux eurosceptiqu...</td>\n",
       "      <td>Philippe Bernard</td>\n",
       "      <td>2015</td>\n",
       "      <td>07/01/2015</td>\n",
       "      <td>NULL</td>\n",
       "      <td>Le Monde</td>\n",
       "      <td>David Cameron donne des gages aux eurosceptiqu...</td>\n",
       "    </tr>\n",
       "    <tr>\n",
       "      <th>2</th>\n",
       "      <td>3</td>\n",
       "      <td>Merkel calme le jeu avec Athènes et Londres</td>\n",
       "      <td>Philippe Bernard, Frédéric Lemaître et Jean-Pi...</td>\n",
       "      <td>2015</td>\n",
       "      <td>09/01/2015</td>\n",
       "      <td>NULL</td>\n",
       "      <td>Le Monde</td>\n",
       "      <td>Merkel calme le jeu avec Athènes et Londres Lo...</td>\n",
       "    </tr>\n",
       "    <tr>\n",
       "      <th>3</th>\n",
       "      <td>4</td>\n",
       "      <td>2015, une année électorale qui va stresser les...</td>\n",
       "      <td>NULL</td>\n",
       "      <td>2015</td>\n",
       "      <td>19/01/2015</td>\n",
       "      <td>NULL</td>\n",
       "      <td>Les Echos</td>\n",
       "      <td>2015, une année électorale qui va stresser les...</td>\n",
       "    </tr>\n",
       "    <tr>\n",
       "      <th>4</th>\n",
       "      <td>5</td>\n",
       "      <td>La croissance britannique face au doute électoral</td>\n",
       "      <td>Collomp, Florentin; florentin collomp @fcollom...</td>\n",
       "      <td>2015</td>\n",
       "      <td>28/01/2015</td>\n",
       "      <td>NULL</td>\n",
       "      <td>Le Figaro</td>\n",
       "      <td>La croissance britannique face au doute électo...</td>\n",
       "    </tr>\n",
       "    <tr>\n",
       "      <th>...</th>\n",
       "      <td>...</td>\n",
       "      <td>...</td>\n",
       "      <td>...</td>\n",
       "      <td>...</td>\n",
       "      <td>...</td>\n",
       "      <td>...</td>\n",
       "      <td>...</td>\n",
       "      <td>...</td>\n",
       "    </tr>\n",
       "    <tr>\n",
       "      <th>8669</th>\n",
       "      <td>8670</td>\n",
       "      <td>Les marchés plutôt optimistes pour 2017</td>\n",
       "      <td>Emmanuel Schafroth</td>\n",
       "      <td>2016</td>\n",
       "      <td>31/12/2016</td>\n",
       "      <td>NULL</td>\n",
       "      <td>Le Monde</td>\n",
       "      <td>Les marchés plutôt optimistes pour 2017 Le pay...</td>\n",
       "    </tr>\n",
       "    <tr>\n",
       "      <th>8670</th>\n",
       "      <td>8671</td>\n",
       "      <td>Depuis quinze ans, l'euro dans les porte-monna...</td>\n",
       "      <td>NULL</td>\n",
       "      <td>2016</td>\n",
       "      <td>31/12/2016</td>\n",
       "      <td>NULL</td>\n",
       "      <td>Midi Libre - CARCA_ML</td>\n",
       "      <td>Depuis quinze ans, l'euro dans les porte-monna...</td>\n",
       "    </tr>\n",
       "    <tr>\n",
       "      <th>8671</th>\n",
       "      <td>8672</td>\n",
       "      <td>Éditorial par François Régis Hutin</td>\n",
       "      <td>NULL</td>\n",
       "      <td>2016</td>\n",
       "      <td>31/12/2016</td>\n",
       "      <td>NULL</td>\n",
       "      <td>Ouest-France</td>\n",
       "      <td>Éditorial par François Régis Hutin Tout ou pre...</td>\n",
       "    </tr>\n",
       "    <tr>\n",
       "      <th>8672</th>\n",
       "      <td>8673</td>\n",
       "      <td>[C'est sous la présidence maltaise de l'Union...]</td>\n",
       "      <td>NULL</td>\n",
       "      <td>2016</td>\n",
       "      <td>31/12/2016</td>\n",
       "      <td>NULL</td>\n",
       "      <td>Ouest-France</td>\n",
       "      <td>[C'est sous la présidence maltaise de l'Union....</td>\n",
       "    </tr>\n",
       "    <tr>\n",
       "      <th>8673</th>\n",
       "      <td>8674</td>\n",
       "      <td>Hollande soigne sa sortie</td>\n",
       "      <td>NULL</td>\n",
       "      <td>2016</td>\n",
       "      <td>31/12/2016</td>\n",
       "      <td>NULL</td>\n",
       "      <td>Le Parisien - Paris</td>\n",
       "      <td>Hollande soigne sa sortie Par Ava Djamshidi et...</td>\n",
       "    </tr>\n",
       "  </tbody>\n",
       "</table>\n",
       "<p>8674 rows × 8 columns</p>\n",
       "</div>"
      ],
      "text/plain": [
       "        id                                              title  \\\n",
       "0        1  Economie & EntrepriseLe risque grec fait de no...   \n",
       "1        2  David Cameron donne des gages aux eurosceptiqu...   \n",
       "2        3        Merkel calme le jeu avec Athènes et Londres   \n",
       "3        4  2015, une année électorale qui va stresser les...   \n",
       "4        5  La croissance britannique face au doute électoral   \n",
       "...    ...                                                ...   \n",
       "8669  8670            Les marchés plutôt optimistes pour 2017   \n",
       "8670  8671  Depuis quinze ans, l'euro dans les porte-monna...   \n",
       "8671  8672                 Éditorial par François Régis Hutin   \n",
       "8672  8673  [C'est sous la présidence maltaise de l'Union...]   \n",
       "8673  8674                          Hollande soigne sa sortie   \n",
       "\n",
       "                                                 author  year        date  \\\n",
       "0                                                  NULL  2015  07/01/2015   \n",
       "1                                      Philippe Bernard  2015  07/01/2015   \n",
       "2     Philippe Bernard, Frédéric Lemaître et Jean-Pi...  2015  09/01/2015   \n",
       "3                                                  NULL  2015  19/01/2015   \n",
       "4     Collomp, Florentin; florentin collomp @fcollom...  2015  28/01/2015   \n",
       "...                                                 ...   ...         ...   \n",
       "8669                                 Emmanuel Schafroth  2016  31/12/2016   \n",
       "8670                                               NULL  2016  31/12/2016   \n",
       "8671                                               NULL  2016  31/12/2016   \n",
       "8672                                               NULL  2016  31/12/2016   \n",
       "8673                                               NULL  2016  31/12/2016   \n",
       "\n",
       "     section             sourcename  \\\n",
       "0       NULL               Le Monde   \n",
       "1       NULL               Le Monde   \n",
       "2       NULL               Le Monde   \n",
       "3       NULL              Les Echos   \n",
       "4       NULL              Le Figaro   \n",
       "...      ...                    ...   \n",
       "8669    NULL               Le Monde   \n",
       "8670    NULL  Midi Libre - CARCA_ML   \n",
       "8671    NULL           Ouest-France   \n",
       "8672    NULL           Ouest-France   \n",
       "8673    NULL    Le Parisien - Paris   \n",
       "\n",
       "                                                   text  \n",
       "0     Economie & EntrepriseLe risque grec fait de no...  \n",
       "1     David Cameron donne des gages aux eurosceptiqu...  \n",
       "2     Merkel calme le jeu avec Athènes et Londres Lo...  \n",
       "3     2015, une année électorale qui va stresser les...  \n",
       "4     La croissance britannique face au doute électo...  \n",
       "...                                                 ...  \n",
       "8669  Les marchés plutôt optimistes pour 2017 Le pay...  \n",
       "8670  Depuis quinze ans, l'euro dans les porte-monna...  \n",
       "8671  Éditorial par François Régis Hutin Tout ou pre...  \n",
       "8672  [C'est sous la présidence maltaise de l'Union....  \n",
       "8673  Hollande soigne sa sortie Par Ava Djamshidi et...  \n",
       "\n",
       "[8674 rows x 8 columns]"
      ]
     },
     "execution_count": 5,
     "metadata": {},
     "output_type": "execute_result"
    }
   ],
   "source": [
    "brexit_data"
   ]
  },
  {
   "cell_type": "markdown",
   "metadata": {},
   "source": [
    "### Tokenisation"
   ]
  },
  {
   "cell_type": "markdown",
   "metadata": {},
   "source": [
    "#### Ressource pour NLTK :"
   ]
  },
  {
   "cell_type": "code",
   "execution_count": 6,
   "metadata": {},
   "outputs": [
    {
     "name": "stderr",
     "output_type": "stream",
     "text": [
      "[nltk_data] Downloading package punkt to\n",
      "[nltk_data]     C:\\Users\\mbrei\\AppData\\Roaming\\nltk_data...\n",
      "[nltk_data]   Package punkt is already up-to-date!\n",
      "[nltk_data] Downloading package stopwords to\n",
      "[nltk_data]     C:\\Users\\mbrei\\AppData\\Roaming\\nltk_data...\n",
      "[nltk_data]   Package stopwords is already up-to-date!\n",
      "[nltk_data] Downloading package wordnet to\n",
      "[nltk_data]     C:\\Users\\mbrei\\AppData\\Roaming\\nltk_data...\n",
      "[nltk_data]   Package wordnet is already up-to-date!\n"
     ]
    },
    {
     "data": {
      "text/plain": [
       "True"
      ]
     },
     "execution_count": 6,
     "metadata": {},
     "output_type": "execute_result"
    }
   ],
   "source": [
    "nltk.download('punkt')   # Pour la tokenisation\n",
    "\n",
    "nltk.download('stopwords')  # Pour els mots d'arrêts\n",
    "\n",
    "nltk.download('wordnet')  # Pour Lemmatisaion\n"
   ]
  },
  {
   "cell_type": "code",
   "execution_count": 7,
   "metadata": {},
   "outputs": [],
   "source": [
    "brexit_token = [word_tokenize(texte) for texte in brexit_data['text']]"
   ]
  },
  {
   "cell_type": "code",
   "execution_count": 8,
   "metadata": {},
   "outputs": [
    {
     "data": {
      "text/plain": [
       "168"
      ]
     },
     "execution_count": 8,
     "metadata": {},
     "output_type": "execute_result"
    }
   ],
   "source": [
    "len(brexit_token[0])"
   ]
  },
  {
   "cell_type": "markdown",
   "metadata": {},
   "source": [
    "### Supression mot d'arrêt"
   ]
  },
  {
   "cell_type": "code",
   "execution_count": 9,
   "metadata": {},
   "outputs": [],
   "source": [
    "mots_arret = set(stopwords.words('french'))\n",
    "\n",
    "brexit_filtre = []\n",
    "for article in brexit_token:\n",
    "    article_filtre = [mot for mot in article if mot.lower() not in mots_arret]\n",
    "    brexit_filtre.append(article_filtre)"
   ]
  },
  {
   "cell_type": "code",
   "execution_count": 10,
   "metadata": {},
   "outputs": [
    {
     "data": {
      "text/plain": [
       "\"L'immigration\""
      ]
     },
     "execution_count": 10,
     "metadata": {},
     "output_type": "execute_result"
    }
   ],
   "source": [
    "brexit_filtre[1][10]"
   ]
  },
  {
   "cell_type": "markdown",
   "metadata": {},
   "source": [
    "### Lemmatisation"
   ]
  },
  {
   "cell_type": "code",
   "execution_count": 11,
   "metadata": {},
   "outputs": [],
   "source": [
    "lemma = WordNetLemmatizer()\n",
    "\n",
    "brexit_lemma = []\n",
    "for article in brexit_filtre:\n",
    "    article_lemma = [lemma.lemmatize(mot) for mot in article]\n",
    "    brexit_lemma.append(article_lemma)"
   ]
  },
  {
   "cell_type": "code",
   "execution_count": 12,
   "metadata": {},
   "outputs": [
    {
     "data": {
      "text/plain": [
       "115"
      ]
     },
     "execution_count": 12,
     "metadata": {},
     "output_type": "execute_result"
    }
   ],
   "source": [
    "len(brexit_lemma[0])"
   ]
  },
  {
   "cell_type": "markdown",
   "metadata": {},
   "source": [
    "### JOIN"
   ]
  },
  {
   "cell_type": "code",
   "execution_count": 13,
   "metadata": {},
   "outputs": [],
   "source": [
    "brexit_full=[]\n",
    "for article in brexit_lemma:\n",
    "    brexit_full.append(' '.join(article))"
   ]
  },
  {
   "cell_type": "code",
   "execution_count": 14,
   "metadata": {},
   "outputs": [
    {
     "data": {
      "text/plain": [
       "\"Economie & EntrepriseLe risque grec fait nouveau trembler zone euro trois . Après turbulence mi-octobre 2014 , puis décembre , Bourses mondiales connu nouvel accès faiblesse , lundi 5 janvier . principaux index européens asiatiques perdu entre 3 % 5 % , Wall Street a clôturé rouge , sillage Bourse d'Athènes ( - 5,63 % ) . confirmation craintes observateurs 2015 : l'année placée sou signe nervosité Bourse . raisons faire peur devraient manquer : perspective élections législatives grecques , 25 janvier , puis scrutin britannique mai , prélude référendum éventuel « Brexit » ( sortie Royaume-Uni l'UE ) . Sans oublier , fin d'année , élections Espagne , autre maillon faible zone euro ...\""
      ]
     },
     "execution_count": 14,
     "metadata": {},
     "output_type": "execute_result"
    }
   ],
   "source": [
    "brexit_full[0]"
   ]
  },
  {
   "cell_type": "markdown",
   "metadata": {},
   "source": [
    "# Analyse de sentiments"
   ]
  },
  {
   "cell_type": "markdown",
   "metadata": {},
   "source": [
    "### Polarité, caractère positif ou négatif"
   ]
  },
  {
   "cell_type": "markdown",
   "metadata": {},
   "source": [
    "#### Avec texte de base"
   ]
  },
  {
   "cell_type": "code",
   "execution_count": 15,
   "metadata": {},
   "outputs": [],
   "source": [
    "brexit_polarite = []\n",
    "for article in brexit_data[\"text\"]:\n",
    "    article_pola = TextBlob(article).sentiment.polarity\n",
    "    brexit_polarite.append(article_pola)"
   ]
  },
  {
   "cell_type": "code",
   "execution_count": 1,
   "metadata": {},
   "outputs": [
    {
     "ename": "NameError",
     "evalue": "name 'brexit_polarite' is not defined",
     "output_type": "error",
     "traceback": [
      "\u001b[1;31m---------------------------------------------------------------------------\u001b[0m",
      "\u001b[1;31mNameError\u001b[0m                                 Traceback (most recent call last)",
      "Cell \u001b[1;32mIn[1], line 1\u001b[0m\n\u001b[1;32m----> 1\u001b[0m \u001b[43mbrexit_polarite\u001b[49m\n",
      "\u001b[1;31mNameError\u001b[0m: name 'brexit_polarite' is not defined"
     ]
    }
   ],
   "source": [
    "brexit_polarite"
   ]
  },
  {
   "cell_type": "code",
   "execution_count": 17,
   "metadata": {},
   "outputs": [
    {
     "data": {
      "text/plain": [
       "0.05005946435161881"
      ]
     },
     "execution_count": 17,
     "metadata": {},
     "output_type": "execute_result"
    }
   ],
   "source": [
    "import statistics\n",
    "statistics.mean(brexit_polarite)"
   ]
  },
  {
   "cell_type": "markdown",
   "metadata": {},
   "source": [
    "#### Avec article transformé"
   ]
  },
  {
   "cell_type": "code",
   "execution_count": 18,
   "metadata": {},
   "outputs": [],
   "source": [
    "brexit_full_polarite = []\n",
    "for article in brexit_full:\n",
    "    article_pola = TextBlob(article).sentiment.polarity\n",
    "    brexit_full_polarite.append(article_pola)"
   ]
  },
  {
   "cell_type": "code",
   "execution_count": 19,
   "metadata": {},
   "outputs": [
    {
     "data": {
      "text/plain": [
       "0.06117555505216972"
      ]
     },
     "execution_count": 19,
     "metadata": {},
     "output_type": "execute_result"
    }
   ],
   "source": [
    "statistics.mean(brexit_full_polarite)"
   ]
  },
  {
   "cell_type": "markdown",
   "metadata": {},
   "source": [
    "### Subjectivité"
   ]
  },
  {
   "cell_type": "code",
   "execution_count": 20,
   "metadata": {},
   "outputs": [],
   "source": [
    "brexit_subj = []\n",
    "for article in brexit_data[\"text\"]:\n",
    "    article_pola = TextBlob(article).sentiment.subjectivity\n",
    "    brexit_subj.append(article_pola)"
   ]
  },
  {
   "cell_type": "code",
   "execution_count": 21,
   "metadata": {},
   "outputs": [],
   "source": [
    "brexit_full_subj = []\n",
    "for article in brexit_full:\n",
    "    article_pola = TextBlob(article).sentiment.subjectivity\n",
    "    brexit_full_subj.append(article_pola)"
   ]
  },
  {
   "cell_type": "code",
   "execution_count": 22,
   "metadata": {},
   "outputs": [
    {
     "data": {
      "text/plain": [
       "2653"
      ]
     },
     "execution_count": 22,
     "metadata": {},
     "output_type": "execute_result"
    }
   ],
   "source": [
    "#Nombre d'article dont la subjectivité est inférieure à 0.2\n",
    "len([x for x in brexit_full_subj if x <0.2])"
   ]
  },
  {
   "cell_type": "code",
   "execution_count": 23,
   "metadata": {},
   "outputs": [
    {
     "name": "stdout",
     "output_type": "stream",
     "text": [
      "0.3930188767622335 0.4047668149168394\n"
     ]
    }
   ],
   "source": [
    "print(statistics.mean(brexit_subj), statistics.mean(brexit_full_subj))"
   ]
  },
  {
   "cell_type": "markdown",
   "metadata": {},
   "source": [
    "# Analyse de sentiments par Journal"
   ]
  },
  {
   "cell_type": "code",
   "execution_count": 24,
   "metadata": {},
   "outputs": [
    {
     "data": {
      "text/plain": [
       "sourcename\n",
       "Les Echos                           1781\n",
       "Le Figaro                           1475\n",
       "Le Monde                            1298\n",
       "La Croix                             458\n",
       "Libération                           427\n",
       "                                    ... \n",
       "Sud Ouest - Landes                     1\n",
       "Le Progrès - Lyon - 42G                1\n",
       "Ouest-France - Vendee Littoral         1\n",
       "Le Progrès - Lyon - 42F                1\n",
       "Le Progrès - Lyon - Est Lyonnais       1\n",
       "Name: count, Length: 195, dtype: int64"
      ]
     },
     "execution_count": 24,
     "metadata": {},
     "output_type": "execute_result"
    }
   ],
   "source": [
    "brexit_data.groupby('sourcename')\n",
    "brexit_data['sourcename'].value_counts()"
   ]
  },
  {
   "cell_type": "markdown",
   "metadata": {},
   "source": [
    "### Subjectivité "
   ]
  },
  {
   "cell_type": "code",
   "execution_count": 27,
   "metadata": {},
   "outputs": [
    {
     "name": "stdout",
     "output_type": "stream",
     "text": [
      "0\n",
      "1\n",
      "2\n",
      "3\n",
      "4\n"
     ]
    }
   ],
   "source": [
    "journal = ['Les Echos', 'Le Monde', 'Le Figaro', 'Libération','La Croix']\n",
    "subjectivite = []\n",
    "\n",
    "for i in range(len(journal)):\n",
    "    data = brexit_data.groupby('sourcename').get_group(journal[i])\n",
    "    brexit_subj = []\n",
    "    for article in data[\"text\"]:\n",
    "        article_subj = TextBlob(article).sentiment.subjectivity\n",
    "        brexit_subj.append(article_subj)\n",
    "    subj_mean = statistics.mean(brexit_subj)\n",
    "    subjectivite.append(subj_mean)\n",
    "    print(i)"
   ]
  },
  {
   "cell_type": "code",
   "execution_count": 28,
   "metadata": {},
   "outputs": [
    {
     "data": {
      "text/html": [
       "<div>\n",
       "<style scoped>\n",
       "    .dataframe tbody tr th:only-of-type {\n",
       "        vertical-align: middle;\n",
       "    }\n",
       "\n",
       "    .dataframe tbody tr th {\n",
       "        vertical-align: top;\n",
       "    }\n",
       "\n",
       "    .dataframe thead th {\n",
       "        text-align: right;\n",
       "    }\n",
       "</style>\n",
       "<table border=\"1\" class=\"dataframe\">\n",
       "  <thead>\n",
       "    <tr style=\"text-align: right;\">\n",
       "      <th></th>\n",
       "      <th>Journal</th>\n",
       "      <th>Subjectivité moyenne</th>\n",
       "    </tr>\n",
       "  </thead>\n",
       "  <tbody>\n",
       "    <tr>\n",
       "      <th>0</th>\n",
       "      <td>Les Echos</td>\n",
       "      <td>0.419597</td>\n",
       "    </tr>\n",
       "    <tr>\n",
       "      <th>1</th>\n",
       "      <td>Le Monde</td>\n",
       "      <td>0.437484</td>\n",
       "    </tr>\n",
       "    <tr>\n",
       "      <th>2</th>\n",
       "      <td>Le Figaro</td>\n",
       "      <td>0.397718</td>\n",
       "    </tr>\n",
       "    <tr>\n",
       "      <th>3</th>\n",
       "      <td>Libération</td>\n",
       "      <td>0.456161</td>\n",
       "    </tr>\n",
       "    <tr>\n",
       "      <th>4</th>\n",
       "      <td>La Croix</td>\n",
       "      <td>0.351072</td>\n",
       "    </tr>\n",
       "  </tbody>\n",
       "</table>\n",
       "</div>"
      ],
      "text/plain": [
       "      Journal  Subjectivité moyenne\n",
       "0   Les Echos              0.419597\n",
       "1    Le Monde              0.437484\n",
       "2   Le Figaro              0.397718\n",
       "3  Libération              0.456161\n",
       "4    La Croix              0.351072"
      ]
     },
     "execution_count": 28,
     "metadata": {},
     "output_type": "execute_result"
    }
   ],
   "source": [
    "pd.DataFrame({'Journal':journal, 'Subjectivité moyenne':subjectivite})"
   ]
  },
  {
   "cell_type": "markdown",
   "metadata": {},
   "source": [
    "# Classification"
   ]
  },
  {
   "cell_type": "code",
   "execution_count": null,
   "metadata": {},
   "outputs": [],
   "source": []
  },
  {
   "cell_type": "code",
   "execution_count": null,
   "metadata": {},
   "outputs": [],
   "source": []
  },
  {
   "cell_type": "code",
   "execution_count": null,
   "metadata": {},
   "outputs": [],
   "source": []
  }
 ],
 "metadata": {
  "kernelspec": {
   "display_name": "Python 3",
   "language": "python",
   "name": "python3"
  },
  "language_info": {
   "codemirror_mode": {
    "name": "ipython",
    "version": 3
   },
   "file_extension": ".py",
   "mimetype": "text/x-python",
   "name": "python",
   "nbconvert_exporter": "python",
   "pygments_lexer": "ipython3",
   "version": "3.12.3"
  }
 },
 "nbformat": 4,
 "nbformat_minor": 2
}
