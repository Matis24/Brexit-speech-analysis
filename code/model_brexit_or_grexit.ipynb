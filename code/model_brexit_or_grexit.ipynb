{
 "cells": [
  {
   "cell_type": "code",
   "execution_count": 1,
   "metadata": {},
   "outputs": [],
   "source": [
    "# Pour lire les données\n",
    "from bs4 import BeautifulSoup\n",
    "import pandas as pd\n",
    "\n",
    "# analys sentiments\n",
    "from textblob import TextBlob\n",
    "import statistics\n",
    "\n",
    "# Pour le prétraitement des données\n",
    "# Token et filtre et lemma\n",
    "import re\n",
    "import nltk\n",
    "from nltk.tokenize import word_tokenize\n",
    "from nltk.corpus import stopwords\n",
    "from nltk.stem import WordNetLemmatizer\n",
    "\n",
    "\n",
    "# Pour analyse de sentiments\n",
    "from textblob import TextBlob\n",
    "from textblob_fr import PatternTagger, PatternAnalyzer\n"
   ]
  },
  {
   "cell_type": "markdown",
   "metadata": {},
   "source": [
    "# Chargement des données"
   ]
  },
  {
   "cell_type": "code",
   "execution_count": 2,
   "metadata": {},
   "outputs": [],
   "source": [
    "with open('../data/grexit.txt', 'r', encoding='utf-8') as file:\n",
    "        grexit = file.read()\n",
    "        \n",
    "with open('../data/brexit.txt', 'r', encoding='utf-8') as file:\n",
    "        brexit = file.read()"
   ]
  },
  {
   "cell_type": "code",
   "execution_count": 3,
   "metadata": {},
   "outputs": [],
   "source": [
    "soup = BeautifulSoup(grexit, 'html.parser') \n",
    "texts = soup.find_all('text')\n",
    "\n",
    "grexit = pd.DataFrame(columns=['id', 'title', 'author', 'year', 'date', 'section', 'sourcename', 'text'])\n",
    "\n",
    "for text in texts:\n",
    "    text_data = {\n",
    "        'id': text.get('id'),\n",
    "        'title': text.get('title'),\n",
    "        'author': text.get('author'),\n",
    "        'year': text.get('year'),\n",
    "        'date': text.get('date'),\n",
    "        'section': text.get('section'),\n",
    "        'sourcename': text.get('sourcename'),\n",
    "        'text': text.get_text(separator=\" \", strip=True)\n",
    "    }\n",
    "    grexit = pd.concat([grexit, pd.DataFrame([text_data])], ignore_index=True)"
   ]
  },
  {
   "cell_type": "code",
   "execution_count": 4,
   "metadata": {},
   "outputs": [],
   "source": [
    "grexit['pays'] = 'grexit'\n"
   ]
  },
  {
   "cell_type": "code",
   "execution_count": 5,
   "metadata": {},
   "outputs": [],
   "source": [
    "soup = BeautifulSoup(brexit, 'html.parser') \n",
    "texts = soup.find_all('text')\n",
    "\n",
    "brexit = pd.DataFrame(columns=['id', 'title', 'author', 'year', 'date', 'section', 'sourcename', 'text'])\n",
    "\n",
    "for text in texts:\n",
    "    text_data = {\n",
    "        'id': text.get('id'),\n",
    "        'title': text.get('title'),\n",
    "        'author': text.get('author'),\n",
    "        'year': text.get('year'),\n",
    "        'date': text.get('date'),\n",
    "        'section': text.get('section'),\n",
    "        'sourcename': text.get('sourcename'),\n",
    "        'text': text.get_text(separator=\" \", strip=True)\n",
    "    }\n",
    "    brexit = pd.concat([brexit, pd.DataFrame([text_data])], ignore_index=True)"
   ]
  },
  {
   "cell_type": "code",
   "execution_count": 6,
   "metadata": {},
   "outputs": [],
   "source": [
    "brexit['pays'] = 'brexit'\n"
   ]
  },
  {
   "cell_type": "code",
   "execution_count": 7,
   "metadata": {},
   "outputs": [],
   "source": [
    "data = pd.concat([brexit, grexit])\n",
    "data = data.reset_index(drop=True)"
   ]
  },
  {
   "cell_type": "code",
   "execution_count": 8,
   "metadata": {},
   "outputs": [
    {
     "data": {
      "text/html": [
       "<div>\n",
       "<style scoped>\n",
       "    .dataframe tbody tr th:only-of-type {\n",
       "        vertical-align: middle;\n",
       "    }\n",
       "\n",
       "    .dataframe tbody tr th {\n",
       "        vertical-align: top;\n",
       "    }\n",
       "\n",
       "    .dataframe thead th {\n",
       "        text-align: right;\n",
       "    }\n",
       "</style>\n",
       "<table border=\"1\" class=\"dataframe\">\n",
       "  <thead>\n",
       "    <tr style=\"text-align: right;\">\n",
       "      <th></th>\n",
       "      <th>id</th>\n",
       "      <th>title</th>\n",
       "      <th>author</th>\n",
       "      <th>year</th>\n",
       "      <th>date</th>\n",
       "      <th>section</th>\n",
       "      <th>sourcename</th>\n",
       "      <th>text</th>\n",
       "      <th>pays</th>\n",
       "    </tr>\n",
       "  </thead>\n",
       "  <tbody>\n",
       "    <tr>\n",
       "      <th>0</th>\n",
       "      <td>1</td>\n",
       "      <td>Economie &amp; EntrepriseLe risque grec fait de no...</td>\n",
       "      <td>NULL</td>\n",
       "      <td>2015</td>\n",
       "      <td>07/01/2015</td>\n",
       "      <td>NULL</td>\n",
       "      <td>Le Monde</td>\n",
       "      <td>Economie &amp; EntrepriseLe risque grec fait de no...</td>\n",
       "      <td>brexit</td>\n",
       "    </tr>\n",
       "    <tr>\n",
       "      <th>1</th>\n",
       "      <td>2</td>\n",
       "      <td>David Cameron donne des gages aux eurosceptiqu...</td>\n",
       "      <td>Philippe Bernard</td>\n",
       "      <td>2015</td>\n",
       "      <td>07/01/2015</td>\n",
       "      <td>NULL</td>\n",
       "      <td>Le Monde</td>\n",
       "      <td>David Cameron donne des gages aux eurosceptiqu...</td>\n",
       "      <td>brexit</td>\n",
       "    </tr>\n",
       "    <tr>\n",
       "      <th>2</th>\n",
       "      <td>3</td>\n",
       "      <td>Merkel calme le jeu avec Athènes et Londres</td>\n",
       "      <td>Philippe Bernard, Frédéric Lemaître et Jean-Pi...</td>\n",
       "      <td>2015</td>\n",
       "      <td>09/01/2015</td>\n",
       "      <td>NULL</td>\n",
       "      <td>Le Monde</td>\n",
       "      <td>Merkel calme le jeu avec Athènes et Londres Lo...</td>\n",
       "      <td>brexit</td>\n",
       "    </tr>\n",
       "    <tr>\n",
       "      <th>3</th>\n",
       "      <td>4</td>\n",
       "      <td>2015, une année électorale qui va stresser les...</td>\n",
       "      <td>NULL</td>\n",
       "      <td>2015</td>\n",
       "      <td>19/01/2015</td>\n",
       "      <td>NULL</td>\n",
       "      <td>Les Echos</td>\n",
       "      <td>2015, une année électorale qui va stresser les...</td>\n",
       "      <td>brexit</td>\n",
       "    </tr>\n",
       "    <tr>\n",
       "      <th>4</th>\n",
       "      <td>5</td>\n",
       "      <td>La croissance britannique face au doute électoral</td>\n",
       "      <td>Collomp, Florentin; florentin collomp @fcollom...</td>\n",
       "      <td>2015</td>\n",
       "      <td>28/01/2015</td>\n",
       "      <td>NULL</td>\n",
       "      <td>Le Figaro</td>\n",
       "      <td>La croissance britannique face au doute électo...</td>\n",
       "      <td>brexit</td>\n",
       "    </tr>\n",
       "  </tbody>\n",
       "</table>\n",
       "</div>"
      ],
      "text/plain": [
       "  id                                              title  \\\n",
       "0  1  Economie & EntrepriseLe risque grec fait de no...   \n",
       "1  2  David Cameron donne des gages aux eurosceptiqu...   \n",
       "2  3        Merkel calme le jeu avec Athènes et Londres   \n",
       "3  4  2015, une année électorale qui va stresser les...   \n",
       "4  5  La croissance britannique face au doute électoral   \n",
       "\n",
       "                                              author  year        date  \\\n",
       "0                                               NULL  2015  07/01/2015   \n",
       "1                                   Philippe Bernard  2015  07/01/2015   \n",
       "2  Philippe Bernard, Frédéric Lemaître et Jean-Pi...  2015  09/01/2015   \n",
       "3                                               NULL  2015  19/01/2015   \n",
       "4  Collomp, Florentin; florentin collomp @fcollom...  2015  28/01/2015   \n",
       "\n",
       "  section sourcename                                               text  \\\n",
       "0    NULL   Le Monde  Economie & EntrepriseLe risque grec fait de no...   \n",
       "1    NULL   Le Monde  David Cameron donne des gages aux eurosceptiqu...   \n",
       "2    NULL   Le Monde  Merkel calme le jeu avec Athènes et Londres Lo...   \n",
       "3    NULL  Les Echos  2015, une année électorale qui va stresser les...   \n",
       "4    NULL  Le Figaro  La croissance britannique face au doute électo...   \n",
       "\n",
       "     pays  \n",
       "0  brexit  \n",
       "1  brexit  \n",
       "2  brexit  \n",
       "3  brexit  \n",
       "4  brexit  "
      ]
     },
     "execution_count": 8,
     "metadata": {},
     "output_type": "execute_result"
    }
   ],
   "source": [
    "data.head()"
   ]
  },
  {
   "cell_type": "markdown",
   "metadata": {},
   "source": [
    "# Traitement des données"
   ]
  },
  {
   "cell_type": "code",
   "execution_count": 9,
   "metadata": {},
   "outputs": [
    {
     "name": "stderr",
     "output_type": "stream",
     "text": [
      "[nltk_data] Downloading package punkt to\n",
      "[nltk_data]     C:\\Users\\mbrei\\AppData\\Roaming\\nltk_data...\n",
      "[nltk_data]   Package punkt is already up-to-date!\n",
      "[nltk_data] Downloading package stopwords to\n",
      "[nltk_data]     C:\\Users\\mbrei\\AppData\\Roaming\\nltk_data...\n",
      "[nltk_data]   Package stopwords is already up-to-date!\n",
      "[nltk_data] Downloading package wordnet to\n",
      "[nltk_data]     C:\\Users\\mbrei\\AppData\\Roaming\\nltk_data...\n",
      "[nltk_data]   Package wordnet is already up-to-date!\n"
     ]
    },
    {
     "data": {
      "text/plain": [
       "True"
      ]
     },
     "execution_count": 9,
     "metadata": {},
     "output_type": "execute_result"
    }
   ],
   "source": [
    "nltk.download('punkt')   # Pour la tokenisation\n",
    "nltk.download('stopwords')  # Pour els mots d'arrêts\n",
    "nltk.download('wordnet')  # Pour Lemmatisaion"
   ]
  },
  {
   "cell_type": "markdown",
   "metadata": {},
   "source": [
    "#### Suppression : ponctuation, caractères spéciaux, espaces blancs et transformation en minuscule"
   ]
  },
  {
   "cell_type": "code",
   "execution_count": 10,
   "metadata": {},
   "outputs": [],
   "source": [
    "def pretraitement(text):\n",
    "    text = text.lower()\n",
    "    text = re.sub(r'[^\\w\\s]', '', text)\n",
    "    text = re.sub(r'[^a-zA-Z0-9\\s]', '', text)\n",
    "    text = re.sub(r'\\s+', ' ', text)\n",
    "    return text\n",
    "\n",
    "data['text'] = data['text'].apply(pretraitement)"
   ]
  },
  {
   "cell_type": "markdown",
   "metadata": {},
   "source": [
    "#### Tokennisation"
   ]
  },
  {
   "cell_type": "code",
   "execution_count": 11,
   "metadata": {},
   "outputs": [],
   "source": [
    "data['text'] = data['text'].apply(word_tokenize)"
   ]
  },
  {
   "cell_type": "markdown",
   "metadata": {},
   "source": [
    "##### Mot d'arrêt"
   ]
  },
  {
   "cell_type": "code",
   "execution_count": 12,
   "metadata": {},
   "outputs": [],
   "source": [
    "def sup_mots_arret(texte):\n",
    "    mots_arret = set(stopwords.words('french'))\n",
    "    mots_filtres = [mot for mot in texte if mot not in mots_arret]\n",
    "    return mots_filtres\n",
    "\n",
    "data['text'] = data['text'].apply(sup_mots_arret)\n"
   ]
  },
  {
   "cell_type": "markdown",
   "metadata": {},
   "source": [
    "#### Lemmatisation"
   ]
  },
  {
   "cell_type": "code",
   "execution_count": 13,
   "metadata": {},
   "outputs": [],
   "source": [
    "lemmatizer = WordNetLemmatizer()\n",
    "\n",
    "data['text'] = data['text'].apply(lambda text: [lemmatizer.lemmatize(word) for word in text])"
   ]
  },
  {
   "cell_type": "code",
   "execution_count": 14,
   "metadata": {},
   "outputs": [
    {
     "data": {
      "text/plain": [
       "0       [economie, entreprisele, risque, grec, fait, n...\n",
       "1       [david, cameron, donne, gage, eurosceptiques, ...\n",
       "2       [merkel, calme, jeu, athnes, londres, londres,...\n",
       "3       [2015, anne, lectorale, va, stresser, march, 2...\n",
       "4       [croissance, britannique, face, doute, lectora...\n",
       "                              ...                        \n",
       "9854    [pierre, moscovici, commissaire, europen, 2017...\n",
       "9855    [abandonner, leuro, cest, faire, lit, national...\n",
       "9856    [royaumeuni, pas, postrit, rfrendum, 23, juin,...\n",
       "9857    [leurope, face, monte, populismes, dboussole, ...\n",
       "9858    [depuis, quinze, an, leuro, portemonnaie, euro...\n",
       "Name: text, Length: 9859, dtype: object"
      ]
     },
     "execution_count": 14,
     "metadata": {},
     "output_type": "execute_result"
    }
   ],
   "source": [
    "data['text']"
   ]
  },
  {
   "cell_type": "markdown",
   "metadata": {},
   "source": [
    "# Model de classif"
   ]
  },
  {
   "cell_type": "code",
   "execution_count": 71,
   "metadata": {},
   "outputs": [],
   "source": [
    "# POur le modèle \n",
    "from sklearn.model_selection import train_test_split  #Séparation du jdd\n",
    "from sklearn.feature_extraction.text import TfidfVectorizer # Vectoriser X\n",
    "from sklearn.svm import SVC # Modèle de SVM\n",
    "from sklearn.metrics import accuracy_score  # calcul accuraccy\n",
    "from sklearn.preprocessing import LabelEncoder # Encoder Y\n"
   ]
  },
  {
   "cell_type": "code",
   "execution_count": 49,
   "metadata": {},
   "outputs": [
    {
     "name": "stdout",
     "output_type": "stream",
     "text": [
      "['brexit' 'grexit'] [0 0 0 ... 1 1 1]\n"
     ]
    }
   ],
   "source": [
    "X = data['text']\n",
    "y = data['pays']\n",
    "label_encoder = LabelEncoder()\n",
    "y = label_encoder.fit_transform(y)\n",
    "print(label_encoder.classes_,y)"
   ]
  },
  {
   "cell_type": "code",
   "execution_count": 64,
   "metadata": {},
   "outputs": [],
   "source": [
    "# Liste de mots en chaine de caratères :\n",
    "X_str = [' '.join(phrase) for phrase in X]\n",
    "\n",
    "# Vectorise\n",
    "vectorizer = TfidfVectorizer(max_features=10)\n",
    "X_vectorized = vectorizer.fit_transform(X_str)"
   ]
  },
  {
   "cell_type": "code",
   "execution_count": 67,
   "metadata": {},
   "outputs": [
    {
     "data": {
      "text/html": [
       "<style>#sk-container-id-8 {\n",
       "  /* Definition of color scheme common for light and dark mode */\n",
       "  --sklearn-color-text: black;\n",
       "  --sklearn-color-line: gray;\n",
       "  /* Definition of color scheme for unfitted estimators */\n",
       "  --sklearn-color-unfitted-level-0: #fff5e6;\n",
       "  --sklearn-color-unfitted-level-1: #f6e4d2;\n",
       "  --sklearn-color-unfitted-level-2: #ffe0b3;\n",
       "  --sklearn-color-unfitted-level-3: chocolate;\n",
       "  /* Definition of color scheme for fitted estimators */\n",
       "  --sklearn-color-fitted-level-0: #f0f8ff;\n",
       "  --sklearn-color-fitted-level-1: #d4ebff;\n",
       "  --sklearn-color-fitted-level-2: #b3dbfd;\n",
       "  --sklearn-color-fitted-level-3: cornflowerblue;\n",
       "\n",
       "  /* Specific color for light theme */\n",
       "  --sklearn-color-text-on-default-background: var(--sg-text-color, var(--theme-code-foreground, var(--jp-content-font-color1, black)));\n",
       "  --sklearn-color-background: var(--sg-background-color, var(--theme-background, var(--jp-layout-color0, white)));\n",
       "  --sklearn-color-border-box: var(--sg-text-color, var(--theme-code-foreground, var(--jp-content-font-color1, black)));\n",
       "  --sklearn-color-icon: #696969;\n",
       "\n",
       "  @media (prefers-color-scheme: dark) {\n",
       "    /* Redefinition of color scheme for dark theme */\n",
       "    --sklearn-color-text-on-default-background: var(--sg-text-color, var(--theme-code-foreground, var(--jp-content-font-color1, white)));\n",
       "    --sklearn-color-background: var(--sg-background-color, var(--theme-background, var(--jp-layout-color0, #111)));\n",
       "    --sklearn-color-border-box: var(--sg-text-color, var(--theme-code-foreground, var(--jp-content-font-color1, white)));\n",
       "    --sklearn-color-icon: #878787;\n",
       "  }\n",
       "}\n",
       "\n",
       "#sk-container-id-8 {\n",
       "  color: var(--sklearn-color-text);\n",
       "}\n",
       "\n",
       "#sk-container-id-8 pre {\n",
       "  padding: 0;\n",
       "}\n",
       "\n",
       "#sk-container-id-8 input.sk-hidden--visually {\n",
       "  border: 0;\n",
       "  clip: rect(1px 1px 1px 1px);\n",
       "  clip: rect(1px, 1px, 1px, 1px);\n",
       "  height: 1px;\n",
       "  margin: -1px;\n",
       "  overflow: hidden;\n",
       "  padding: 0;\n",
       "  position: absolute;\n",
       "  width: 1px;\n",
       "}\n",
       "\n",
       "#sk-container-id-8 div.sk-dashed-wrapped {\n",
       "  border: 1px dashed var(--sklearn-color-line);\n",
       "  margin: 0 0.4em 0.5em 0.4em;\n",
       "  box-sizing: border-box;\n",
       "  padding-bottom: 0.4em;\n",
       "  background-color: var(--sklearn-color-background);\n",
       "}\n",
       "\n",
       "#sk-container-id-8 div.sk-container {\n",
       "  /* jupyter's `normalize.less` sets `[hidden] { display: none; }`\n",
       "     but bootstrap.min.css set `[hidden] { display: none !important; }`\n",
       "     so we also need the `!important` here to be able to override the\n",
       "     default hidden behavior on the sphinx rendered scikit-learn.org.\n",
       "     See: https://github.com/scikit-learn/scikit-learn/issues/21755 */\n",
       "  display: inline-block !important;\n",
       "  position: relative;\n",
       "}\n",
       "\n",
       "#sk-container-id-8 div.sk-text-repr-fallback {\n",
       "  display: none;\n",
       "}\n",
       "\n",
       "div.sk-parallel-item,\n",
       "div.sk-serial,\n",
       "div.sk-item {\n",
       "  /* draw centered vertical line to link estimators */\n",
       "  background-image: linear-gradient(var(--sklearn-color-text-on-default-background), var(--sklearn-color-text-on-default-background));\n",
       "  background-size: 2px 100%;\n",
       "  background-repeat: no-repeat;\n",
       "  background-position: center center;\n",
       "}\n",
       "\n",
       "/* Parallel-specific style estimator block */\n",
       "\n",
       "#sk-container-id-8 div.sk-parallel-item::after {\n",
       "  content: \"\";\n",
       "  width: 100%;\n",
       "  border-bottom: 2px solid var(--sklearn-color-text-on-default-background);\n",
       "  flex-grow: 1;\n",
       "}\n",
       "\n",
       "#sk-container-id-8 div.sk-parallel {\n",
       "  display: flex;\n",
       "  align-items: stretch;\n",
       "  justify-content: center;\n",
       "  background-color: var(--sklearn-color-background);\n",
       "  position: relative;\n",
       "}\n",
       "\n",
       "#sk-container-id-8 div.sk-parallel-item {\n",
       "  display: flex;\n",
       "  flex-direction: column;\n",
       "}\n",
       "\n",
       "#sk-container-id-8 div.sk-parallel-item:first-child::after {\n",
       "  align-self: flex-end;\n",
       "  width: 50%;\n",
       "}\n",
       "\n",
       "#sk-container-id-8 div.sk-parallel-item:last-child::after {\n",
       "  align-self: flex-start;\n",
       "  width: 50%;\n",
       "}\n",
       "\n",
       "#sk-container-id-8 div.sk-parallel-item:only-child::after {\n",
       "  width: 0;\n",
       "}\n",
       "\n",
       "/* Serial-specific style estimator block */\n",
       "\n",
       "#sk-container-id-8 div.sk-serial {\n",
       "  display: flex;\n",
       "  flex-direction: column;\n",
       "  align-items: center;\n",
       "  background-color: var(--sklearn-color-background);\n",
       "  padding-right: 1em;\n",
       "  padding-left: 1em;\n",
       "}\n",
       "\n",
       "\n",
       "/* Toggleable style: style used for estimator/Pipeline/ColumnTransformer box that is\n",
       "clickable and can be expanded/collapsed.\n",
       "- Pipeline and ColumnTransformer use this feature and define the default style\n",
       "- Estimators will overwrite some part of the style using the `sk-estimator` class\n",
       "*/\n",
       "\n",
       "/* Pipeline and ColumnTransformer style (default) */\n",
       "\n",
       "#sk-container-id-8 div.sk-toggleable {\n",
       "  /* Default theme specific background. It is overwritten whether we have a\n",
       "  specific estimator or a Pipeline/ColumnTransformer */\n",
       "  background-color: var(--sklearn-color-background);\n",
       "}\n",
       "\n",
       "/* Toggleable label */\n",
       "#sk-container-id-8 label.sk-toggleable__label {\n",
       "  cursor: pointer;\n",
       "  display: block;\n",
       "  width: 100%;\n",
       "  margin-bottom: 0;\n",
       "  padding: 0.5em;\n",
       "  box-sizing: border-box;\n",
       "  text-align: center;\n",
       "}\n",
       "\n",
       "#sk-container-id-8 label.sk-toggleable__label-arrow:before {\n",
       "  /* Arrow on the left of the label */\n",
       "  content: \"▸\";\n",
       "  float: left;\n",
       "  margin-right: 0.25em;\n",
       "  color: var(--sklearn-color-icon);\n",
       "}\n",
       "\n",
       "#sk-container-id-8 label.sk-toggleable__label-arrow:hover:before {\n",
       "  color: var(--sklearn-color-text);\n",
       "}\n",
       "\n",
       "/* Toggleable content - dropdown */\n",
       "\n",
       "#sk-container-id-8 div.sk-toggleable__content {\n",
       "  max-height: 0;\n",
       "  max-width: 0;\n",
       "  overflow: hidden;\n",
       "  text-align: left;\n",
       "  /* unfitted */\n",
       "  background-color: var(--sklearn-color-unfitted-level-0);\n",
       "}\n",
       "\n",
       "#sk-container-id-8 div.sk-toggleable__content.fitted {\n",
       "  /* fitted */\n",
       "  background-color: var(--sklearn-color-fitted-level-0);\n",
       "}\n",
       "\n",
       "#sk-container-id-8 div.sk-toggleable__content pre {\n",
       "  margin: 0.2em;\n",
       "  border-radius: 0.25em;\n",
       "  color: var(--sklearn-color-text);\n",
       "  /* unfitted */\n",
       "  background-color: var(--sklearn-color-unfitted-level-0);\n",
       "}\n",
       "\n",
       "#sk-container-id-8 div.sk-toggleable__content.fitted pre {\n",
       "  /* unfitted */\n",
       "  background-color: var(--sklearn-color-fitted-level-0);\n",
       "}\n",
       "\n",
       "#sk-container-id-8 input.sk-toggleable__control:checked~div.sk-toggleable__content {\n",
       "  /* Expand drop-down */\n",
       "  max-height: 200px;\n",
       "  max-width: 100%;\n",
       "  overflow: auto;\n",
       "}\n",
       "\n",
       "#sk-container-id-8 input.sk-toggleable__control:checked~label.sk-toggleable__label-arrow:before {\n",
       "  content: \"▾\";\n",
       "}\n",
       "\n",
       "/* Pipeline/ColumnTransformer-specific style */\n",
       "\n",
       "#sk-container-id-8 div.sk-label input.sk-toggleable__control:checked~label.sk-toggleable__label {\n",
       "  color: var(--sklearn-color-text);\n",
       "  background-color: var(--sklearn-color-unfitted-level-2);\n",
       "}\n",
       "\n",
       "#sk-container-id-8 div.sk-label.fitted input.sk-toggleable__control:checked~label.sk-toggleable__label {\n",
       "  background-color: var(--sklearn-color-fitted-level-2);\n",
       "}\n",
       "\n",
       "/* Estimator-specific style */\n",
       "\n",
       "/* Colorize estimator box */\n",
       "#sk-container-id-8 div.sk-estimator input.sk-toggleable__control:checked~label.sk-toggleable__label {\n",
       "  /* unfitted */\n",
       "  background-color: var(--sklearn-color-unfitted-level-2);\n",
       "}\n",
       "\n",
       "#sk-container-id-8 div.sk-estimator.fitted input.sk-toggleable__control:checked~label.sk-toggleable__label {\n",
       "  /* fitted */\n",
       "  background-color: var(--sklearn-color-fitted-level-2);\n",
       "}\n",
       "\n",
       "#sk-container-id-8 div.sk-label label.sk-toggleable__label,\n",
       "#sk-container-id-8 div.sk-label label {\n",
       "  /* The background is the default theme color */\n",
       "  color: var(--sklearn-color-text-on-default-background);\n",
       "}\n",
       "\n",
       "/* On hover, darken the color of the background */\n",
       "#sk-container-id-8 div.sk-label:hover label.sk-toggleable__label {\n",
       "  color: var(--sklearn-color-text);\n",
       "  background-color: var(--sklearn-color-unfitted-level-2);\n",
       "}\n",
       "\n",
       "/* Label box, darken color on hover, fitted */\n",
       "#sk-container-id-8 div.sk-label.fitted:hover label.sk-toggleable__label.fitted {\n",
       "  color: var(--sklearn-color-text);\n",
       "  background-color: var(--sklearn-color-fitted-level-2);\n",
       "}\n",
       "\n",
       "/* Estimator label */\n",
       "\n",
       "#sk-container-id-8 div.sk-label label {\n",
       "  font-family: monospace;\n",
       "  font-weight: bold;\n",
       "  display: inline-block;\n",
       "  line-height: 1.2em;\n",
       "}\n",
       "\n",
       "#sk-container-id-8 div.sk-label-container {\n",
       "  text-align: center;\n",
       "}\n",
       "\n",
       "/* Estimator-specific */\n",
       "#sk-container-id-8 div.sk-estimator {\n",
       "  font-family: monospace;\n",
       "  border: 1px dotted var(--sklearn-color-border-box);\n",
       "  border-radius: 0.25em;\n",
       "  box-sizing: border-box;\n",
       "  margin-bottom: 0.5em;\n",
       "  /* unfitted */\n",
       "  background-color: var(--sklearn-color-unfitted-level-0);\n",
       "}\n",
       "\n",
       "#sk-container-id-8 div.sk-estimator.fitted {\n",
       "  /* fitted */\n",
       "  background-color: var(--sklearn-color-fitted-level-0);\n",
       "}\n",
       "\n",
       "/* on hover */\n",
       "#sk-container-id-8 div.sk-estimator:hover {\n",
       "  /* unfitted */\n",
       "  background-color: var(--sklearn-color-unfitted-level-2);\n",
       "}\n",
       "\n",
       "#sk-container-id-8 div.sk-estimator.fitted:hover {\n",
       "  /* fitted */\n",
       "  background-color: var(--sklearn-color-fitted-level-2);\n",
       "}\n",
       "\n",
       "/* Specification for estimator info (e.g. \"i\" and \"?\") */\n",
       "\n",
       "/* Common style for \"i\" and \"?\" */\n",
       "\n",
       ".sk-estimator-doc-link,\n",
       "a:link.sk-estimator-doc-link,\n",
       "a:visited.sk-estimator-doc-link {\n",
       "  float: right;\n",
       "  font-size: smaller;\n",
       "  line-height: 1em;\n",
       "  font-family: monospace;\n",
       "  background-color: var(--sklearn-color-background);\n",
       "  border-radius: 1em;\n",
       "  height: 1em;\n",
       "  width: 1em;\n",
       "  text-decoration: none !important;\n",
       "  margin-left: 1ex;\n",
       "  /* unfitted */\n",
       "  border: var(--sklearn-color-unfitted-level-1) 1pt solid;\n",
       "  color: var(--sklearn-color-unfitted-level-1);\n",
       "}\n",
       "\n",
       ".sk-estimator-doc-link.fitted,\n",
       "a:link.sk-estimator-doc-link.fitted,\n",
       "a:visited.sk-estimator-doc-link.fitted {\n",
       "  /* fitted */\n",
       "  border: var(--sklearn-color-fitted-level-1) 1pt solid;\n",
       "  color: var(--sklearn-color-fitted-level-1);\n",
       "}\n",
       "\n",
       "/* On hover */\n",
       "div.sk-estimator:hover .sk-estimator-doc-link:hover,\n",
       ".sk-estimator-doc-link:hover,\n",
       "div.sk-label-container:hover .sk-estimator-doc-link:hover,\n",
       ".sk-estimator-doc-link:hover {\n",
       "  /* unfitted */\n",
       "  background-color: var(--sklearn-color-unfitted-level-3);\n",
       "  color: var(--sklearn-color-background);\n",
       "  text-decoration: none;\n",
       "}\n",
       "\n",
       "div.sk-estimator.fitted:hover .sk-estimator-doc-link.fitted:hover,\n",
       ".sk-estimator-doc-link.fitted:hover,\n",
       "div.sk-label-container:hover .sk-estimator-doc-link.fitted:hover,\n",
       ".sk-estimator-doc-link.fitted:hover {\n",
       "  /* fitted */\n",
       "  background-color: var(--sklearn-color-fitted-level-3);\n",
       "  color: var(--sklearn-color-background);\n",
       "  text-decoration: none;\n",
       "}\n",
       "\n",
       "/* Span, style for the box shown on hovering the info icon */\n",
       ".sk-estimator-doc-link span {\n",
       "  display: none;\n",
       "  z-index: 9999;\n",
       "  position: relative;\n",
       "  font-weight: normal;\n",
       "  right: .2ex;\n",
       "  padding: .5ex;\n",
       "  margin: .5ex;\n",
       "  width: min-content;\n",
       "  min-width: 20ex;\n",
       "  max-width: 50ex;\n",
       "  color: var(--sklearn-color-text);\n",
       "  box-shadow: 2pt 2pt 4pt #999;\n",
       "  /* unfitted */\n",
       "  background: var(--sklearn-color-unfitted-level-0);\n",
       "  border: .5pt solid var(--sklearn-color-unfitted-level-3);\n",
       "}\n",
       "\n",
       ".sk-estimator-doc-link.fitted span {\n",
       "  /* fitted */\n",
       "  background: var(--sklearn-color-fitted-level-0);\n",
       "  border: var(--sklearn-color-fitted-level-3);\n",
       "}\n",
       "\n",
       ".sk-estimator-doc-link:hover span {\n",
       "  display: block;\n",
       "}\n",
       "\n",
       "/* \"?\"-specific style due to the `<a>` HTML tag */\n",
       "\n",
       "#sk-container-id-8 a.estimator_doc_link {\n",
       "  float: right;\n",
       "  font-size: 1rem;\n",
       "  line-height: 1em;\n",
       "  font-family: monospace;\n",
       "  background-color: var(--sklearn-color-background);\n",
       "  border-radius: 1rem;\n",
       "  height: 1rem;\n",
       "  width: 1rem;\n",
       "  text-decoration: none;\n",
       "  /* unfitted */\n",
       "  color: var(--sklearn-color-unfitted-level-1);\n",
       "  border: var(--sklearn-color-unfitted-level-1) 1pt solid;\n",
       "}\n",
       "\n",
       "#sk-container-id-8 a.estimator_doc_link.fitted {\n",
       "  /* fitted */\n",
       "  border: var(--sklearn-color-fitted-level-1) 1pt solid;\n",
       "  color: var(--sklearn-color-fitted-level-1);\n",
       "}\n",
       "\n",
       "/* On hover */\n",
       "#sk-container-id-8 a.estimator_doc_link:hover {\n",
       "  /* unfitted */\n",
       "  background-color: var(--sklearn-color-unfitted-level-3);\n",
       "  color: var(--sklearn-color-background);\n",
       "  text-decoration: none;\n",
       "}\n",
       "\n",
       "#sk-container-id-8 a.estimator_doc_link.fitted:hover {\n",
       "  /* fitted */\n",
       "  background-color: var(--sklearn-color-fitted-level-3);\n",
       "}\n",
       "</style><div id=\"sk-container-id-8\" class=\"sk-top-container\"><div class=\"sk-text-repr-fallback\"><pre>SVC(kernel=&#x27;linear&#x27;)</pre><b>In a Jupyter environment, please rerun this cell to show the HTML representation or trust the notebook. <br />On GitHub, the HTML representation is unable to render, please try loading this page with nbviewer.org.</b></div><div class=\"sk-container\" hidden><div class=\"sk-item\"><div class=\"sk-estimator fitted sk-toggleable\"><input class=\"sk-toggleable__control sk-hidden--visually\" id=\"sk-estimator-id-8\" type=\"checkbox\" checked><label for=\"sk-estimator-id-8\" class=\"sk-toggleable__label fitted sk-toggleable__label-arrow fitted\">&nbsp;&nbsp;SVC<a class=\"sk-estimator-doc-link fitted\" rel=\"noreferrer\" target=\"_blank\" href=\"https://scikit-learn.org/1.4/modules/generated/sklearn.svm.SVC.html\">?<span>Documentation for SVC</span></a><span class=\"sk-estimator-doc-link fitted\">i<span>Fitted</span></span></label><div class=\"sk-toggleable__content fitted\"><pre>SVC(kernel=&#x27;linear&#x27;)</pre></div> </div></div></div></div>"
      ],
      "text/plain": [
       "SVC(kernel='linear')"
      ]
     },
     "execution_count": 67,
     "metadata": {},
     "output_type": "execute_result"
    }
   ],
   "source": [
    "X_train, X_test, y_train, y_test = train_test_split(X_vectorized, y, test_size=0.3, random_state=42)\n",
    "\n",
    "# On utilise un svm\n",
    "classifier = SVC(kernel='linear')\n",
    "\n",
    "classifier.fit(X_train, y_train)"
   ]
  },
  {
   "cell_type": "code",
   "execution_count": 73,
   "metadata": {},
   "outputs": [
    {
     "data": {
      "text/plain": [
       "0.9634888438133874"
      ]
     },
     "execution_count": 73,
     "metadata": {},
     "output_type": "execute_result"
    }
   ],
   "source": [
    "y_pred = classifier.predict(X_test)\n",
    "accuracy_score(y_test, y_pred)"
   ]
  },
  {
   "cell_type": "markdown",
   "metadata": {},
   "source": [
    "## Graphique sentiments"
   ]
  },
  {
   "cell_type": "code",
   "execution_count": 15,
   "metadata": {},
   "outputs": [],
   "source": [
    "data['text'] = [' '.join(liste) for liste in data['text']]"
   ]
  },
  {
   "cell_type": "code",
   "execution_count": 16,
   "metadata": {},
   "outputs": [
    {
     "data": {
      "text/html": [
       "<div>\n",
       "<style scoped>\n",
       "    .dataframe tbody tr th:only-of-type {\n",
       "        vertical-align: middle;\n",
       "    }\n",
       "\n",
       "    .dataframe tbody tr th {\n",
       "        vertical-align: top;\n",
       "    }\n",
       "\n",
       "    .dataframe thead th {\n",
       "        text-align: right;\n",
       "    }\n",
       "</style>\n",
       "<table border=\"1\" class=\"dataframe\">\n",
       "  <thead>\n",
       "    <tr style=\"text-align: right;\">\n",
       "      <th></th>\n",
       "      <th>id</th>\n",
       "      <th>title</th>\n",
       "      <th>author</th>\n",
       "      <th>year</th>\n",
       "      <th>date</th>\n",
       "      <th>section</th>\n",
       "      <th>sourcename</th>\n",
       "      <th>text</th>\n",
       "      <th>pays</th>\n",
       "    </tr>\n",
       "  </thead>\n",
       "  <tbody>\n",
       "    <tr>\n",
       "      <th>9854</th>\n",
       "      <td>1181</td>\n",
       "      <td>Pierre Moscovici Commissaire européen</td>\n",
       "      <td>GUILLAUME MAUJEAN</td>\n",
       "      <td>2016</td>\n",
       "      <td>12/12/2016</td>\n",
       "      <td>NULL</td>\n",
       "      <td>Les Echos</td>\n",
       "      <td>pierre moscovici commissaire europen 2017 tout...</td>\n",
       "      <td>grexit</td>\n",
       "    </tr>\n",
       "    <tr>\n",
       "      <th>9855</th>\n",
       "      <td>1182</td>\n",
       "      <td>Abandonner l'euro, c'est faire le lit des nati...</td>\n",
       "      <td>NULL</td>\n",
       "      <td>2016</td>\n",
       "      <td>13/12/2016</td>\n",
       "      <td>NULL</td>\n",
       "      <td>Libération</td>\n",
       "      <td>abandonner leuro cest faire lit nationalistes ...</td>\n",
       "      <td>grexit</td>\n",
       "    </tr>\n",
       "    <tr>\n",
       "      <th>9856</th>\n",
       "      <td>1183</td>\n",
       "      <td>Royaume-Uni</td>\n",
       "      <td>NULL</td>\n",
       "      <td>2016</td>\n",
       "      <td>16/12/2016</td>\n",
       "      <td>NULL</td>\n",
       "      <td>La Croix</td>\n",
       "      <td>royaumeuni pas postrit rfrendum 23 juin brexit...</td>\n",
       "      <td>grexit</td>\n",
       "    </tr>\n",
       "    <tr>\n",
       "      <th>9857</th>\n",
       "      <td>1184</td>\n",
       "      <td>L'Europe face à la montée des populismes</td>\n",
       "      <td>Malhère, Manon</td>\n",
       "      <td>2016</td>\n",
       "      <td>30/12/2016</td>\n",
       "      <td>NULL</td>\n",
       "      <td>Le Figaro</td>\n",
       "      <td>leurope face monte populismes dboussole rfrend...</td>\n",
       "      <td>grexit</td>\n",
       "    </tr>\n",
       "    <tr>\n",
       "      <th>9858</th>\n",
       "      <td>1185</td>\n",
       "      <td>Depuis quinze ans, l'euro dans les porte-monna...</td>\n",
       "      <td>NULL</td>\n",
       "      <td>2016</td>\n",
       "      <td>31/12/2016</td>\n",
       "      <td>NULL</td>\n",
       "      <td>Midi Libre - CARCA_ML</td>\n",
       "      <td>depuis quinze an leuro portemonnaie europens c...</td>\n",
       "      <td>grexit</td>\n",
       "    </tr>\n",
       "  </tbody>\n",
       "</table>\n",
       "</div>"
      ],
      "text/plain": [
       "        id                                              title  \\\n",
       "9854  1181              Pierre Moscovici Commissaire européen   \n",
       "9855  1182  Abandonner l'euro, c'est faire le lit des nati...   \n",
       "9856  1183                                        Royaume-Uni   \n",
       "9857  1184           L'Europe face à la montée des populismes   \n",
       "9858  1185  Depuis quinze ans, l'euro dans les porte-monna...   \n",
       "\n",
       "                 author  year        date section             sourcename  \\\n",
       "9854  GUILLAUME MAUJEAN  2016  12/12/2016    NULL              Les Echos   \n",
       "9855               NULL  2016  13/12/2016    NULL             Libération   \n",
       "9856               NULL  2016  16/12/2016    NULL               La Croix   \n",
       "9857     Malhère, Manon  2016  30/12/2016    NULL              Le Figaro   \n",
       "9858               NULL  2016  31/12/2016    NULL  Midi Libre - CARCA_ML   \n",
       "\n",
       "                                                   text    pays  \n",
       "9854  pierre moscovici commissaire europen 2017 tout...  grexit  \n",
       "9855  abandonner leuro cest faire lit nationalistes ...  grexit  \n",
       "9856  royaumeuni pas postrit rfrendum 23 juin brexit...  grexit  \n",
       "9857  leurope face monte populismes dboussole rfrend...  grexit  \n",
       "9858  depuis quinze an leuro portemonnaie europens c...  grexit  "
      ]
     },
     "execution_count": 16,
     "metadata": {},
     "output_type": "execute_result"
    }
   ],
   "source": [
    "data.tail()"
   ]
  },
  {
   "cell_type": "markdown",
   "metadata": {},
   "source": [
    "### Brexit subjectivite"
   ]
  },
  {
   "cell_type": "code",
   "execution_count": 48,
   "metadata": {},
   "outputs": [
    {
     "name": "stdout",
     "output_type": "stream",
     "text": [
      "0\n",
      "1\n",
      "2\n",
      "3\n",
      "4\n"
     ]
    }
   ],
   "source": [
    "brexit_data = data.groupby('pays').get_group('brexit')\n",
    "journal = ['Les Echos', 'Le Monde', 'Le Figaro', 'Libération','La Croix']\n",
    "subjectivite = []\n",
    "\n",
    "for i in range(len(journal)):\n",
    "    brexit_journal = brexit_data.groupby('sourcename').get_group(journal[i])\n",
    "    brexit_subj = []\n",
    "    for article in brexit_journal[\"text\"]:\n",
    "        article_subj = TextBlob(article).sentiment.subjectivity\n",
    "        brexit_subj.append(article_subj)\n",
    "    subj_mean = statistics.mean(brexit_subj)\n",
    "    subjectivite.append(subj_mean)\n",
    "    print(i)"
   ]
  },
  {
   "cell_type": "code",
   "execution_count": 49,
   "metadata": {},
   "outputs": [],
   "source": [
    "brexit_subjectivite = pd.DataFrame({'Journal':journal, 'Brexit':subjectivite})"
   ]
  },
  {
   "cell_type": "markdown",
   "metadata": {},
   "source": [
    "### grexit subjectivite"
   ]
  },
  {
   "cell_type": "code",
   "execution_count": 50,
   "metadata": {},
   "outputs": [
    {
     "name": "stdout",
     "output_type": "stream",
     "text": [
      "0\n",
      "1\n",
      "2\n",
      "3\n",
      "4\n"
     ]
    }
   ],
   "source": [
    "grexit_data = data.groupby('pays').get_group('grexit')\n",
    "journal = ['Les Echos', 'Le Monde', 'Le Figaro', 'Libération','La Croix']\n",
    "subjectivite2 = []\n",
    "\n",
    "for i in range(len(journal)):\n",
    "    grexit_journal = grexit_data.groupby('sourcename').get_group(journal[i])\n",
    "    grexit_subj = []\n",
    "    for article in grexit_journal[\"text\"]:\n",
    "        article_subj = TextBlob(article).sentiment.subjectivity\n",
    "        grexit_subj.append(article_subj)\n",
    "    subj_mean = statistics.mean(grexit_subj)\n",
    "    subjectivite2.append(subj_mean)\n",
    "    print(i)"
   ]
  },
  {
   "cell_type": "code",
   "execution_count": 51,
   "metadata": {},
   "outputs": [],
   "source": [
    "grexit_subjectivite = pd.DataFrame({'Journal':journal, 'Grexit':subjectivite2})"
   ]
  },
  {
   "cell_type": "code",
   "execution_count": 52,
   "metadata": {},
   "outputs": [],
   "source": [
    "data_subjectivite = brexit_subjectivite.merge(grexit_subjectivite, on='Journal')"
   ]
  },
  {
   "cell_type": "code",
   "execution_count": 53,
   "metadata": {},
   "outputs": [
    {
     "data": {
      "text/html": [
       "<div>\n",
       "<style scoped>\n",
       "    .dataframe tbody tr th:only-of-type {\n",
       "        vertical-align: middle;\n",
       "    }\n",
       "\n",
       "    .dataframe tbody tr th {\n",
       "        vertical-align: top;\n",
       "    }\n",
       "\n",
       "    .dataframe thead th {\n",
       "        text-align: right;\n",
       "    }\n",
       "</style>\n",
       "<table border=\"1\" class=\"dataframe\">\n",
       "  <thead>\n",
       "    <tr style=\"text-align: right;\">\n",
       "      <th></th>\n",
       "      <th>Journal</th>\n",
       "      <th>Brexit</th>\n",
       "      <th>Grexit</th>\n",
       "    </tr>\n",
       "  </thead>\n",
       "  <tbody>\n",
       "    <tr>\n",
       "      <th>0</th>\n",
       "      <td>Les Echos</td>\n",
       "      <td>0.056976</td>\n",
       "      <td>0.042392</td>\n",
       "    </tr>\n",
       "    <tr>\n",
       "      <th>1</th>\n",
       "      <td>Le Monde</td>\n",
       "      <td>0.048807</td>\n",
       "      <td>0.026650</td>\n",
       "    </tr>\n",
       "    <tr>\n",
       "      <th>2</th>\n",
       "      <td>Le Figaro</td>\n",
       "      <td>0.066125</td>\n",
       "      <td>0.047134</td>\n",
       "    </tr>\n",
       "    <tr>\n",
       "      <th>3</th>\n",
       "      <td>Libération</td>\n",
       "      <td>0.068331</td>\n",
       "      <td>0.062090</td>\n",
       "    </tr>\n",
       "    <tr>\n",
       "      <th>4</th>\n",
       "      <td>La Croix</td>\n",
       "      <td>0.045054</td>\n",
       "      <td>0.041192</td>\n",
       "    </tr>\n",
       "  </tbody>\n",
       "</table>\n",
       "</div>"
      ],
      "text/plain": [
       "      Journal    Brexit    Grexit\n",
       "0   Les Echos  0.056976  0.042392\n",
       "1    Le Monde  0.048807  0.026650\n",
       "2   Le Figaro  0.066125  0.047134\n",
       "3  Libération  0.068331  0.062090\n",
       "4    La Croix  0.045054  0.041192"
      ]
     },
     "execution_count": 53,
     "metadata": {},
     "output_type": "execute_result"
    }
   ],
   "source": [
    "data_subjectivite"
   ]
  },
  {
   "cell_type": "code",
   "execution_count": 54,
   "metadata": {},
   "outputs": [
    {
     "data": {
      "image/png": "[encoded data removed]",
      "text/plain": [
       "<Figure size 1000x600 with 1 Axes>"
      ]
     },
     "metadata": {},
     "output_type": "display_data"
    }
   ],
   "source": [
    "import matplotlib.pyplot as plt\n",
    "\n",
    "# Créer le graphique\n",
    "ax = data_subjectivite.plot(kind='bar', x='Journal', figsize=(10, 6))\n",
    "\n",
    "ax.set_ylim(0, 1)\n",
    "\n",
    "# Ajouter des étiquettes, des titres et une légende\n",
    "ax.set_xlabel('Journaux')\n",
    "ax.set_ylabel('Subjectivité')\n",
    "ax.set_title('Subjectivité moyenne de chaque journal sur le Brexit et le Grexit')\n",
    "plt.xticks(rotation=45)\n",
    "for i, label in enumerate(ax.get_xticklabels()):\n",
    "    ax.axvline(x=i, color='gray', linestyle='--', linewidth=0.5)\n",
    "plt.tight_layout()\n",
    "\n",
    "# Afficher le graphique\n",
    "plt.show()"
   ]
  },
  {
   "cell_type": "markdown",
   "metadata": {},
   "source": [
    "# Prédiction tweet"
   ]
  },
  {
   "cell_type": "code",
   "execution_count": 17,
   "metadata": {},
   "outputs": [],
   "source": [
    "import joblib\n",
    "\n",
    "model = joblib.load('model/avis_tweet_predict_150_full.pkl')"
   ]
  },
  {
   "cell_type": "code",
   "execution_count": 18,
   "metadata": {},
   "outputs": [
    {
     "data": {
      "text/plain": [
       "0       economie entreprisele risque grec fait nouveau...\n",
       "1       david cameron donne gage eurosceptiques britan...\n",
       "2       merkel calme jeu athnes londres londres berlin...\n",
       "3       2015 anne lectorale va stresser march 2014 ris...\n",
       "4       croissance britannique face doute lectoral con...\n",
       "                              ...                        \n",
       "9854    pierre moscovici commissaire europen 2017 tout...\n",
       "9855    abandonner leuro cest faire lit nationalistes ...\n",
       "9856    royaumeuni pas postrit rfrendum 23 juin brexit...\n",
       "9857    leurope face monte populismes dboussole rfrend...\n",
       "9858    depuis quinze an leuro portemonnaie europens c...\n",
       "Name: text, Length: 9859, dtype: object"
      ]
     },
     "execution_count": 18,
     "metadata": {},
     "output_type": "execute_result"
    }
   ],
   "source": [
    "#X = [' '.join(liste) for liste in data['text']]\n",
    "X = data['text']\n",
    "X"
   ]
  },
  {
   "cell_type": "code",
   "execution_count": 19,
   "metadata": {},
   "outputs": [],
   "source": [
    "from sklearn.feature_extraction.text import TfidfVectorizer # Vectoriser X\n",
    "\n",
    "vectorizer = TfidfVectorizer(max_features=150)\n",
    "X_vectorized = vectorizer.fit_transform(X)"
   ]
  },
  {
   "cell_type": "code",
   "execution_count": 20,
   "metadata": {},
   "outputs": [],
   "source": [
    "predictions = model.predict(X_vectorized)"
   ]
  },
  {
   "cell_type": "code",
   "execution_count": 21,
   "metadata": {},
   "outputs": [],
   "source": [
    "result = pd.DataFrame({'Journal': data['sourcename'],'Date':data['date'] ,'text': X, 'avis': predictions})"
   ]
  },
  {
   "cell_type": "code",
   "execution_count": 22,
   "metadata": {},
   "outputs": [
    {
     "data": {
      "text/html": [
       "<div>\n",
       "<style scoped>\n",
       "    .dataframe tbody tr th:only-of-type {\n",
       "        vertical-align: middle;\n",
       "    }\n",
       "\n",
       "    .dataframe tbody tr th {\n",
       "        vertical-align: top;\n",
       "    }\n",
       "\n",
       "    .dataframe thead th {\n",
       "        text-align: right;\n",
       "    }\n",
       "</style>\n",
       "<table border=\"1\" class=\"dataframe\">\n",
       "  <thead>\n",
       "    <tr style=\"text-align: right;\">\n",
       "      <th></th>\n",
       "      <th>Journal</th>\n",
       "      <th>Date</th>\n",
       "      <th>text</th>\n",
       "      <th>avis</th>\n",
       "    </tr>\n",
       "  </thead>\n",
       "  <tbody>\n",
       "    <tr>\n",
       "      <th>0</th>\n",
       "      <td>Le Monde</td>\n",
       "      <td>07/01/2015</td>\n",
       "      <td>economie entreprisele risque grec fait nouveau...</td>\n",
       "      <td>AntiBrexit</td>\n",
       "    </tr>\n",
       "    <tr>\n",
       "      <th>1</th>\n",
       "      <td>Le Monde</td>\n",
       "      <td>07/01/2015</td>\n",
       "      <td>david cameron donne gage eurosceptiques britan...</td>\n",
       "      <td>AntiBrexit</td>\n",
       "    </tr>\n",
       "    <tr>\n",
       "      <th>2</th>\n",
       "      <td>Le Monde</td>\n",
       "      <td>09/01/2015</td>\n",
       "      <td>merkel calme jeu athnes londres londres berlin...</td>\n",
       "      <td>AntiBrexit</td>\n",
       "    </tr>\n",
       "    <tr>\n",
       "      <th>3</th>\n",
       "      <td>Les Echos</td>\n",
       "      <td>19/01/2015</td>\n",
       "      <td>2015 anne lectorale va stresser march 2014 ris...</td>\n",
       "      <td>AntiBrexit</td>\n",
       "    </tr>\n",
       "    <tr>\n",
       "      <th>4</th>\n",
       "      <td>Le Figaro</td>\n",
       "      <td>28/01/2015</td>\n",
       "      <td>croissance britannique face doute lectoral con...</td>\n",
       "      <td>AntiBrexit</td>\n",
       "    </tr>\n",
       "    <tr>\n",
       "      <th>...</th>\n",
       "      <td>...</td>\n",
       "      <td>...</td>\n",
       "      <td>...</td>\n",
       "      <td>...</td>\n",
       "    </tr>\n",
       "    <tr>\n",
       "      <th>9854</th>\n",
       "      <td>Les Echos</td>\n",
       "      <td>12/12/2016</td>\n",
       "      <td>pierre moscovici commissaire europen 2017 tout...</td>\n",
       "      <td>AntiBrexit</td>\n",
       "    </tr>\n",
       "    <tr>\n",
       "      <th>9855</th>\n",
       "      <td>Libération</td>\n",
       "      <td>13/12/2016</td>\n",
       "      <td>abandonner leuro cest faire lit nationalistes ...</td>\n",
       "      <td>AntiBrexit</td>\n",
       "    </tr>\n",
       "    <tr>\n",
       "      <th>9856</th>\n",
       "      <td>La Croix</td>\n",
       "      <td>16/12/2016</td>\n",
       "      <td>royaumeuni pas postrit rfrendum 23 juin brexit...</td>\n",
       "      <td>AntiBrexit</td>\n",
       "    </tr>\n",
       "    <tr>\n",
       "      <th>9857</th>\n",
       "      <td>Le Figaro</td>\n",
       "      <td>30/12/2016</td>\n",
       "      <td>leurope face monte populismes dboussole rfrend...</td>\n",
       "      <td>AntiBrexit</td>\n",
       "    </tr>\n",
       "    <tr>\n",
       "      <th>9858</th>\n",
       "      <td>Midi Libre - CARCA_ML</td>\n",
       "      <td>31/12/2016</td>\n",
       "      <td>depuis quinze an leuro portemonnaie europens c...</td>\n",
       "      <td>AntiBrexit</td>\n",
       "    </tr>\n",
       "  </tbody>\n",
       "</table>\n",
       "<p>9859 rows × 4 columns</p>\n",
       "</div>"
      ],
      "text/plain": [
       "                    Journal        Date  \\\n",
       "0                  Le Monde  07/01/2015   \n",
       "1                  Le Monde  07/01/2015   \n",
       "2                  Le Monde  09/01/2015   \n",
       "3                 Les Echos  19/01/2015   \n",
       "4                 Le Figaro  28/01/2015   \n",
       "...                     ...         ...   \n",
       "9854              Les Echos  12/12/2016   \n",
       "9855             Libération  13/12/2016   \n",
       "9856               La Croix  16/12/2016   \n",
       "9857              Le Figaro  30/12/2016   \n",
       "9858  Midi Libre - CARCA_ML  31/12/2016   \n",
       "\n",
       "                                                   text        avis  \n",
       "0     economie entreprisele risque grec fait nouveau...  AntiBrexit  \n",
       "1     david cameron donne gage eurosceptiques britan...  AntiBrexit  \n",
       "2     merkel calme jeu athnes londres londres berlin...  AntiBrexit  \n",
       "3     2015 anne lectorale va stresser march 2014 ris...  AntiBrexit  \n",
       "4     croissance britannique face doute lectoral con...  AntiBrexit  \n",
       "...                                                 ...         ...  \n",
       "9854  pierre moscovici commissaire europen 2017 tout...  AntiBrexit  \n",
       "9855  abandonner leuro cest faire lit nationalistes ...  AntiBrexit  \n",
       "9856  royaumeuni pas postrit rfrendum 23 juin brexit...  AntiBrexit  \n",
       "9857  leurope face monte populismes dboussole rfrend...  AntiBrexit  \n",
       "9858  depuis quinze an leuro portemonnaie europens c...  AntiBrexit  \n",
       "\n",
       "[9859 rows x 4 columns]"
      ]
     },
     "execution_count": 22,
     "metadata": {},
     "output_type": "execute_result"
    }
   ],
   "source": [
    "result['avis'] = result['avis'].replace({0: 'AntiBrexit', 1: 'ProBrexit'})\n",
    "result"
   ]
  },
  {
   "cell_type": "code",
   "execution_count": 27,
   "metadata": {},
   "outputs": [
    {
     "data": {
      "text/plain": [
       "avis\n",
       "AntiBrexit    8722\n",
       "ProBrexit     1137\n",
       "Name: count, dtype: int64"
      ]
     },
     "execution_count": 27,
     "metadata": {},
     "output_type": "execute_result"
    }
   ],
   "source": [
    "result['avis'].value_counts()"
   ]
  },
  {
   "cell_type": "markdown",
   "metadata": {},
   "source": [
    "# POla avec avis"
   ]
  },
  {
   "cell_type": "code",
   "execution_count": 123,
   "metadata": {},
   "outputs": [
    {
     "name": "stdout",
     "output_type": "stream",
     "text": [
      "0\n",
      "1\n",
      "2\n",
      "3\n",
      "4\n"
     ]
    }
   ],
   "source": [
    "brexit_avis = result.groupby('avis').get_group('AntiBrexit')\n",
    "journal = ['Les Echos', 'Le Monde', 'Le Figaro', 'Libération','La Croix']\n",
    "pola_avis = []\n",
    "\n",
    "for i in range(len(journal)):\n",
    "    brexit_journal = brexit_avis.groupby('Journal').get_group(journal[i])\n",
    "    brexit_subj = []\n",
    "    for article in brexit_journal[\"text\"]:\n",
    "        article_subj = TextBlob(article).sentiment.polarity\n",
    "        brexit_subj.append(article_subj)\n",
    "    subj_mean = statistics.mean(brexit_subj)\n",
    "    pola_avis.append(subj_mean)\n",
    "    print(i)"
   ]
  },
  {
   "cell_type": "code",
   "execution_count": 124,
   "metadata": {},
   "outputs": [
    {
     "name": "stdout",
     "output_type": "stream",
     "text": [
      "0\n",
      "1\n",
      "2\n",
      "3\n",
      "4\n"
     ]
    }
   ],
   "source": [
    "brexit_avis = result.groupby('avis').get_group('ProBrexit')\n",
    "journal = ['Les Echos', 'Le Monde', 'Le Figaro', 'Libération','La Croix']\n",
    "pola_avis_pour = []\n",
    "\n",
    "for i in range(len(journal)):\n",
    "    brexit_journal = brexit_avis.groupby('Journal').get_group(journal[i])\n",
    "    brexit_subj = []\n",
    "    for article in brexit_journal[\"text\"]:\n",
    "        article_subj = TextBlob(article).sentiment.polarity\n",
    "        brexit_subj.append(article_subj)\n",
    "    subj_mean = statistics.mean(brexit_subj)\n",
    "    pola_avis_pour.append(subj_mean)\n",
    "    print(i)"
   ]
  },
  {
   "cell_type": "code",
   "execution_count": 125,
   "metadata": {},
   "outputs": [],
   "source": [
    "brexit_pour = pd.DataFrame({'Journal':journal, 'Pour':pola_avis_pour})\n",
    "brexit_contre = pd.DataFrame({'Journal':journal, 'Contre':pola_avis})\n",
    "brexit_avis = brexit_pour.merge(brexit_contre, on='Journal')"
   ]
  },
  {
   "cell_type": "code",
   "execution_count": 126,
   "metadata": {},
   "outputs": [
    {
     "data": {
      "text/html": [
       "<div>\n",
       "<style scoped>\n",
       "    .dataframe tbody tr th:only-of-type {\n",
       "        vertical-align: middle;\n",
       "    }\n",
       "\n",
       "    .dataframe tbody tr th {\n",
       "        vertical-align: top;\n",
       "    }\n",
       "\n",
       "    .dataframe thead th {\n",
       "        text-align: right;\n",
       "    }\n",
       "</style>\n",
       "<table border=\"1\" class=\"dataframe\">\n",
       "  <thead>\n",
       "    <tr style=\"text-align: right;\">\n",
       "      <th></th>\n",
       "      <th>Journal</th>\n",
       "      <th>Pour</th>\n",
       "      <th>Contre</th>\n",
       "    </tr>\n",
       "  </thead>\n",
       "  <tbody>\n",
       "    <tr>\n",
       "      <th>0</th>\n",
       "      <td>Les Echos</td>\n",
       "      <td>0.057190</td>\n",
       "      <td>0.055276</td>\n",
       "    </tr>\n",
       "    <tr>\n",
       "      <th>1</th>\n",
       "      <td>Le Monde</td>\n",
       "      <td>0.023969</td>\n",
       "      <td>0.047249</td>\n",
       "    </tr>\n",
       "    <tr>\n",
       "      <th>2</th>\n",
       "      <td>Le Figaro</td>\n",
       "      <td>0.058696</td>\n",
       "      <td>0.064483</td>\n",
       "    </tr>\n",
       "    <tr>\n",
       "      <th>3</th>\n",
       "      <td>Libération</td>\n",
       "      <td>0.039253</td>\n",
       "      <td>0.070316</td>\n",
       "    </tr>\n",
       "    <tr>\n",
       "      <th>4</th>\n",
       "      <td>La Croix</td>\n",
       "      <td>0.033111</td>\n",
       "      <td>0.047168</td>\n",
       "    </tr>\n",
       "  </tbody>\n",
       "</table>\n",
       "</div>"
      ],
      "text/plain": [
       "      Journal      Pour    Contre\n",
       "0   Les Echos  0.057190  0.055276\n",
       "1    Le Monde  0.023969  0.047249\n",
       "2   Le Figaro  0.058696  0.064483\n",
       "3  Libération  0.039253  0.070316\n",
       "4    La Croix  0.033111  0.047168"
      ]
     },
     "execution_count": 126,
     "metadata": {},
     "output_type": "execute_result"
    }
   ],
   "source": [
    "brexit_avis"
   ]
  },
  {
   "cell_type": "markdown",
   "metadata": {},
   "source": [
    "# Subj avis"
   ]
  },
  {
   "cell_type": "code",
   "execution_count": 23,
   "metadata": {},
   "outputs": [
    {
     "name": "stdout",
     "output_type": "stream",
     "text": [
      "0\n",
      "1\n",
      "2\n",
      "3\n",
      "4\n"
     ]
    }
   ],
   "source": [
    "brexit_avis = result.groupby('avis').get_group('AntiBrexit')\n",
    "journal = ['Les Echos', 'Le Monde', 'Le Figaro', 'Libération','La Croix']\n",
    "subj_avis_contre = []\n",
    "\n",
    "for i in range(len(journal)):\n",
    "    brexit_journal = brexit_avis.groupby('Journal').get_group(journal[i])\n",
    "    brexit_subj = []\n",
    "    for article in brexit_journal[\"text\"]:\n",
    "        article_subj = TextBlob(article).sentiment.subjectivity\n",
    "        brexit_subj.append(article_subj)\n",
    "    subj_mean = statistics.mean(brexit_subj)\n",
    "    subj_avis_contre.append(subj_mean)\n",
    "    print(i)"
   ]
  },
  {
   "cell_type": "code",
   "execution_count": 24,
   "metadata": {},
   "outputs": [
    {
     "name": "stdout",
     "output_type": "stream",
     "text": [
      "0\n",
      "1\n",
      "2\n",
      "3\n",
      "4\n"
     ]
    }
   ],
   "source": [
    "brexit_avis = result.groupby('avis').get_group('ProBrexit')\n",
    "journal = ['Les Echos', 'Le Monde', 'Le Figaro', 'Libération','La Croix']\n",
    "subj_avis_pour = []\n",
    "\n",
    "for i in range(len(journal)):\n",
    "    brexit_journal = brexit_avis.groupby('Journal').get_group(journal[i])\n",
    "    brexit_subj = []\n",
    "    for article in brexit_journal[\"text\"]:\n",
    "        article_subj = TextBlob(article).sentiment.subjectivity\n",
    "        brexit_subj.append(article_subj)\n",
    "    subj_mean = statistics.mean(brexit_subj)\n",
    "    subj_avis_pour.append(subj_mean)\n",
    "    print(i)"
   ]
  },
  {
   "cell_type": "code",
   "execution_count": 25,
   "metadata": {},
   "outputs": [
    {
     "data": {
      "text/html": [
       "<div>\n",
       "<style scoped>\n",
       "    .dataframe tbody tr th:only-of-type {\n",
       "        vertical-align: middle;\n",
       "    }\n",
       "\n",
       "    .dataframe tbody tr th {\n",
       "        vertical-align: top;\n",
       "    }\n",
       "\n",
       "    .dataframe thead th {\n",
       "        text-align: right;\n",
       "    }\n",
       "</style>\n",
       "<table border=\"1\" class=\"dataframe\">\n",
       "  <thead>\n",
       "    <tr style=\"text-align: right;\">\n",
       "      <th></th>\n",
       "      <th>Journal</th>\n",
       "      <th>Pro-Brexit</th>\n",
       "      <th>Anti-Brexit</th>\n",
       "    </tr>\n",
       "  </thead>\n",
       "  <tbody>\n",
       "    <tr>\n",
       "      <th>0</th>\n",
       "      <td>Les Echos</td>\n",
       "      <td>0.330605</td>\n",
       "      <td>0.451437</td>\n",
       "    </tr>\n",
       "    <tr>\n",
       "      <th>1</th>\n",
       "      <td>Le Monde</td>\n",
       "      <td>0.240870</td>\n",
       "      <td>0.472469</td>\n",
       "    </tr>\n",
       "    <tr>\n",
       "      <th>2</th>\n",
       "      <td>Le Figaro</td>\n",
       "      <td>0.273770</td>\n",
       "      <td>0.442313</td>\n",
       "    </tr>\n",
       "    <tr>\n",
       "      <th>3</th>\n",
       "      <td>Libération</td>\n",
       "      <td>0.334186</td>\n",
       "      <td>0.496300</td>\n",
       "    </tr>\n",
       "    <tr>\n",
       "      <th>4</th>\n",
       "      <td>La Croix</td>\n",
       "      <td>0.227201</td>\n",
       "      <td>0.413228</td>\n",
       "    </tr>\n",
       "  </tbody>\n",
       "</table>\n",
       "</div>"
      ],
      "text/plain": [
       "      Journal  Pro-Brexit  Anti-Brexit\n",
       "0   Les Echos    0.330605     0.451437\n",
       "1    Le Monde    0.240870     0.472469\n",
       "2   Le Figaro    0.273770     0.442313\n",
       "3  Libération    0.334186     0.496300\n",
       "4    La Croix    0.227201     0.413228"
      ]
     },
     "execution_count": 25,
     "metadata": {},
     "output_type": "execute_result"
    }
   ],
   "source": [
    "brexit_pour = pd.DataFrame({'Journal':journal, 'Pro-Brexit':subj_avis_pour})\n",
    "brexit_contre = pd.DataFrame({'Journal':journal, 'Anti-Brexit':subj_avis_contre})\n",
    "brexit_avis = brexit_pour.merge(brexit_contre, on='Journal')\n",
    "brexit_avis"
   ]
  },
  {
   "cell_type": "code",
   "execution_count": 26,
   "metadata": {},
   "outputs": [
    {
     "data": {
      "image/png": "[encoded data removed]",
      "text/plain": [
       "<Figure size 1000x600 with 1 Axes>"
      ]
     },
     "metadata": {},
     "output_type": "display_data"
    }
   ],
   "source": [
    "import matplotlib.pyplot as plt\n",
    "\n",
    "# Créer le graphique\n",
    "ax = brexit_avis.plot(kind='bar', x='Journal', figsize=(10, 6))\n",
    "\n",
    "ax.set_ylim(0, 1)\n",
    "\n",
    "# Ajouter des étiquettes, des titres et une légende\n",
    "ax.set_xlabel('Journaux')\n",
    "ax.set_ylabel('Subjectivité')\n",
    "ax.set_title(\"Subjectivité moyenne de chaque journal sur le Brexit en fonction de l'avis prédit\")\n",
    "plt.xticks(rotation=45)\n",
    "for i, label in enumerate(ax.get_xticklabels()):\n",
    "    ax.axvline(x=i, color='gray', linestyle='--', linewidth=0.5)\n",
    "plt.tight_layout()\n",
    "\n",
    "# Afficher le graphique\n",
    "plt.show()"
   ]
  },
  {
   "cell_type": "code",
   "execution_count": null,
   "metadata": {},
   "outputs": [],
   "source": []
  }
 ],
 "metadata": {
  "kernelspec": {
   "display_name": "Python 3",
   "language": "python",
   "name": "python3"
  },
  "language_info": {
   "codemirror_mode": {
    "name": "ipython",
    "version": 3
   },
   "file_extension": ".py",
   "mimetype": "text/x-python",
   "name": "python",
   "nbconvert_exporter": "python",
   "pygments_lexer": "ipython3",
   "version": "3.12.3"
  }
 },
 "nbformat": 4,
 "nbformat_minor": 2
}
